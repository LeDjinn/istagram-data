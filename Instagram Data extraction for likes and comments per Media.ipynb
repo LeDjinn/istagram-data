{
 "cells": [
  {
   "cell_type": "code",
   "execution_count": 16,
   "id": "smart-following",
   "metadata": {},
   "outputs": [],
   "source": [
    "from dateutil.rrule import rrule, DAILY\n",
    "from datetime import datetime\n",
    "import matplotlib.pyplot as plt\n",
    "import pandas as pd\n",
    "import requests\n",
    "import numpy as np"
   ]
  },
  {
   "cell_type": "code",
   "execution_count": 36,
   "id": "failing-guitar",
   "metadata": {},
   "outputs": [],
   "source": [
    "\n",
    "url=\"https://graph.facebook.com/v15.0/17841401901416928/media?limit=4000&access_token=EAAmNvp7ZCK7kBAHmtRECTzIJITWBxgeasso4sEM7xDJ2tJU7i9j99RmNvQZAhISuIcUIGXhzJEGEAXp0wYoCir0wDQpDgjj5ZC516OZBaeB5nHF0fZAY77NMc5S1QcVdY3qspjtPTu1hQFWEM5CNNYMgDrN16oTOf7QiLoBuAbjNJtQ336P6N1EoZBhOT6xqmtu8mn42o6twZDZD\""
   ]
  },
  {
   "cell_type": "code",
   "execution_count": 37,
   "id": "fresh-profile",
   "metadata": {},
   "outputs": [
    {
     "data": {
      "text/plain": [
       "'https://graph.facebook.com/v15.0/17841401901416928/media?limit=4000&access_token=EAAmNvp7ZCK7kBAHmtRECTzIJITWBxgeasso4sEM7xDJ2tJU7i9j99RmNvQZAhISuIcUIGXhzJEGEAXp0wYoCir0wDQpDgjj5ZC516OZBaeB5nHF0fZAY77NMc5S1QcVdY3qspjtPTu1hQFWEM5CNNYMgDrN16oTOf7QiLoBuAbjNJtQ336P6N1EoZBhOT6xqmtu8mn42o6twZDZD'"
      ]
     },
     "execution_count": 37,
     "metadata": {},
     "output_type": "execute_result"
    }
   ],
   "source": [
    "url"
   ]
  },
  {
   "cell_type": "code",
   "execution_count": 38,
   "id": "romantic-cabin",
   "metadata": {},
   "outputs": [],
   "source": [
    "r = requests.get(url)"
   ]
  },
  {
   "cell_type": "code",
   "execution_count": 39,
   "id": "stable-cologne",
   "metadata": {},
   "outputs": [
    {
     "data": {
      "text/plain": [
       "<Response [200]>"
      ]
     },
     "execution_count": 39,
     "metadata": {},
     "output_type": "execute_result"
    }
   ],
   "source": [
    "r"
   ]
  },
  {
   "cell_type": "code",
   "execution_count": 41,
   "id": "native-demonstration",
   "metadata": {},
   "outputs": [],
   "source": [
    "json=r.json()"
   ]
  },
  {
   "cell_type": "code",
   "execution_count": 42,
   "id": "above-remove",
   "metadata": {},
   "outputs": [],
   "source": [
    "values = [d['id'] for d in json['data']]"
   ]
  },
  {
   "cell_type": "code",
   "execution_count": 43,
   "id": "comprehensive-happening",
   "metadata": {},
   "outputs": [
    {
     "data": {
      "text/plain": [
       "2878"
      ]
     },
     "execution_count": 43,
     "metadata": {},
     "output_type": "execute_result"
    }
   ],
   "source": [
    "len(values) "
   ]
  },
  {
   "cell_type": "code",
   "execution_count": 44,
   "id": "returning-blocking",
   "metadata": {},
   "outputs": [
    {
     "name": "stdout",
     "output_type": "stream",
     "text": [
      "2878\n"
     ]
    }
   ],
   "source": [
    "unique_values = len(set(values))\n",
    "print(unique_values)  "
   ]
  },
  {
   "cell_type": "code",
   "execution_count": 4,
   "id": "breathing-beverage",
   "metadata": {},
   "outputs": [
    {
     "ename": "NameError",
     "evalue": "name 'values' is not defined",
     "output_type": "error",
     "traceback": [
      "\u001b[0;31m---------------------------------------------------------------------------\u001b[0m",
      "\u001b[0;31mNameError\u001b[0m                                 Traceback (most recent call last)",
      "\u001b[0;32m<ipython-input-4-93dfd0987d32>\u001b[0m in \u001b[0;36m<module>\u001b[0;34m()\u001b[0m\n\u001b[0;32m----> 1\u001b[0;31m \u001b[0mvalues\u001b[0m\u001b[0;34m[\u001b[0m\u001b[0;36m5\u001b[0m\u001b[0;34m]\u001b[0m\u001b[0;34m\u001b[0m\u001b[0;34m\u001b[0m\u001b[0m\n\u001b[0m",
      "\u001b[0;31mNameError\u001b[0m: name 'values' is not defined"
     ]
    }
   ],
   "source": [
    "values[5]"
   ]
  },
  {
   "cell_type": "code",
   "execution_count": 2,
   "id": "impossible-dominant",
   "metadata": {},
   "outputs": [],
   "source": [
    "def fetch_data_media(media_id):\n",
    "    url= f'https://graph.facebook.com/v15.0/{media_id}?fields=like_count%2Cmedia_type%2Creach%2Cimpressions%2Ccomments_count%2Cmedia_url%2Ctimestamp&access_token=EAAmNvp7ZCK7kBAEZAWNPFyoptC75ZAznZCFXsoAdnX5nXa07Sc2uC2ZCcFroeZCLYeS1flsrRWZCXD4kwpnV2umaQWa6xy2afyHisqCz8uXTF3tpmAPrONktP6FeaawpOJTAraA526fOCl5GVyfo9jRS0yJ5rB0sh4IJACCJFZC0wkoVd8Ci2MAXZAhhCEnZARNEimq5FsS8oMSAZDZD'\n",
    "    r = requests.get(url)\n",
    "    json=r.json()\n",
    "    return json"
   ]
  },
  {
   "cell_type": "code",
   "execution_count": 3,
   "id": "liable-multimedia",
   "metadata": {},
   "outputs": [
    {
     "ename": "NameError",
     "evalue": "name 'values' is not defined",
     "output_type": "error",
     "traceback": [
      "\u001b[0;31m---------------------------------------------------------------------------\u001b[0m",
      "\u001b[0;31mNameError\u001b[0m                                 Traceback (most recent call last)",
      "\u001b[0;32m<ipython-input-3-6390db3778bf>\u001b[0m in \u001b[0;36m<module>\u001b[0;34m()\u001b[0m\n\u001b[0;32m----> 1\u001b[0;31m \u001b[0mfetch_data_media\u001b[0m\u001b[0;34m(\u001b[0m\u001b[0mvalues\u001b[0m\u001b[0;34m[\u001b[0m\u001b[0;36m2876\u001b[0m\u001b[0;34m]\u001b[0m\u001b[0;34m)\u001b[0m\u001b[0;34m\u001b[0m\u001b[0;34m\u001b[0m\u001b[0m\n\u001b[0m",
      "\u001b[0;31mNameError\u001b[0m: name 'values' is not defined"
     ]
    }
   ],
   "source": [
    "fetch_data_media(values[2876])"
   ]
  },
  {
   "cell_type": "code",
   "execution_count": 49,
   "id": "sufficient-thanks",
   "metadata": {},
   "outputs": [],
   "source": [
    "media_data_arr=[]\n",
    "for d in values:\n",
    "    media_data_arr.append(fetch_data_media(d))"
   ]
  },
  {
   "cell_type": "code",
   "execution_count": 50,
   "id": "simple-planning",
   "metadata": {},
   "outputs": [
    {
     "data": {
      "text/plain": [
       "{'like_count': 31,\n",
       " 'media_type': 'IMAGE',\n",
       " 'comments_count': 9,\n",
       " 'media_url': 'https://scontent.cdninstagram.com/v/t51.2885-15/10808522_188047781365444_1259320932_n.jpg?_nc_cat=104&ccb=1-7&_nc_sid=8ae9d6&_nc_ohc=qDlBvg5VaGsAX-RmTWz&_nc_ht=scontent.cdninstagram.com&edm=AEQ6tj4EAAAA&oh=00_AfDiA_PaLDPBWJp5Q4gqcLLrGUbER0SEphAsjCZNc3ZMoA&oe=63D6597D',\n",
       " 'timestamp': '2014-12-01T09:08:01+0000',\n",
       " 'id': '17842977913063381'}"
      ]
     },
     "execution_count": 50,
     "metadata": {},
     "output_type": "execute_result"
    }
   ],
   "source": [
    "media_data_arr[2566]"
   ]
  },
  {
   "cell_type": "code",
   "execution_count": 51,
   "id": "heavy-necklace",
   "metadata": {},
   "outputs": [],
   "source": [
    "df_media_insights=pd.DataFrame(media_data_arr)"
   ]
  },
  {
   "cell_type": "code",
   "execution_count": 53,
   "id": "brilliant-craft",
   "metadata": {},
   "outputs": [
    {
     "data": {
      "text/html": [
       "<div>\n",
       "<style scoped>\n",
       "    .dataframe tbody tr th:only-of-type {\n",
       "        vertical-align: middle;\n",
       "    }\n",
       "\n",
       "    .dataframe tbody tr th {\n",
       "        vertical-align: top;\n",
       "    }\n",
       "\n",
       "    .dataframe thead th {\n",
       "        text-align: right;\n",
       "    }\n",
       "</style>\n",
       "<table border=\"1\" class=\"dataframe\">\n",
       "  <thead>\n",
       "    <tr style=\"text-align: right;\">\n",
       "      <th></th>\n",
       "      <th>like_count</th>\n",
       "      <th>media_type</th>\n",
       "      <th>comments_count</th>\n",
       "      <th>media_url</th>\n",
       "      <th>timestamp</th>\n",
       "      <th>id</th>\n",
       "    </tr>\n",
       "  </thead>\n",
       "  <tbody>\n",
       "    <tr>\n",
       "      <th>0</th>\n",
       "      <td>41</td>\n",
       "      <td>VIDEO</td>\n",
       "      <td>0</td>\n",
       "      <td>https://video.cdninstagram.com/o1/v/t16/f1/m82...</td>\n",
       "      <td>2023-01-24T15:50:58+0000</td>\n",
       "      <td>17953676306238179</td>\n",
       "    </tr>\n",
       "    <tr>\n",
       "      <th>1</th>\n",
       "      <td>11</td>\n",
       "      <td>CAROUSEL_ALBUM</td>\n",
       "      <td>0</td>\n",
       "      <td>https://scontent.cdninstagram.com/v/t51.29350-...</td>\n",
       "      <td>2023-01-08T13:59:28+0000</td>\n",
       "      <td>18337061332062615</td>\n",
       "    </tr>\n",
       "    <tr>\n",
       "      <th>2</th>\n",
       "      <td>43</td>\n",
       "      <td>VIDEO</td>\n",
       "      <td>0</td>\n",
       "      <td>https://video.cdninstagram.com/o1/v/t16/f1/m82...</td>\n",
       "      <td>2023-01-03T17:33:44+0000</td>\n",
       "      <td>17884478780780159</td>\n",
       "    </tr>\n",
       "    <tr>\n",
       "      <th>3</th>\n",
       "      <td>8</td>\n",
       "      <td>CAROUSEL_ALBUM</td>\n",
       "      <td>2</td>\n",
       "      <td>https://scontent.cdninstagram.com/v/t51.29350-...</td>\n",
       "      <td>2022-12-01T23:36:34+0000</td>\n",
       "      <td>17944144790302532</td>\n",
       "    </tr>\n",
       "    <tr>\n",
       "      <th>4</th>\n",
       "      <td>27</td>\n",
       "      <td>CAROUSEL_ALBUM</td>\n",
       "      <td>1</td>\n",
       "      <td>https://scontent.cdninstagram.com/v/t51.29350-...</td>\n",
       "      <td>2022-11-15T11:50:54+0000</td>\n",
       "      <td>18267292720097018</td>\n",
       "    </tr>\n",
       "    <tr>\n",
       "      <th>...</th>\n",
       "      <td>...</td>\n",
       "      <td>...</td>\n",
       "      <td>...</td>\n",
       "      <td>...</td>\n",
       "      <td>...</td>\n",
       "      <td>...</td>\n",
       "    </tr>\n",
       "    <tr>\n",
       "      <th>2823</th>\n",
       "      <td>28</td>\n",
       "      <td>IMAGE</td>\n",
       "      <td>0</td>\n",
       "      <td>https://scontent.cdninstagram.com/v/t51.2885-1...</td>\n",
       "      <td>2014-07-08T17:00:19+0000</td>\n",
       "      <td>17842892755063381</td>\n",
       "    </tr>\n",
       "    <tr>\n",
       "      <th>2824</th>\n",
       "      <td>27</td>\n",
       "      <td>IMAGE</td>\n",
       "      <td>0</td>\n",
       "      <td>https://scontent.cdninstagram.com/v/t51.2885-1...</td>\n",
       "      <td>2014-07-07T21:51:41+0000</td>\n",
       "      <td>17842892281063381</td>\n",
       "    </tr>\n",
       "    <tr>\n",
       "      <th>2825</th>\n",
       "      <td>21</td>\n",
       "      <td>IMAGE</td>\n",
       "      <td>3</td>\n",
       "      <td>https://scontent.cdninstagram.com/v/t51.2885-1...</td>\n",
       "      <td>2014-07-07T18:46:00+0000</td>\n",
       "      <td>17842892053063381</td>\n",
       "    </tr>\n",
       "    <tr>\n",
       "      <th>2826</th>\n",
       "      <td>26</td>\n",
       "      <td>IMAGE</td>\n",
       "      <td>1</td>\n",
       "      <td>https://scontent.cdninstagram.com/v/t51.2885-1...</td>\n",
       "      <td>2014-07-06T17:08:34+0000</td>\n",
       "      <td>17842890568063381</td>\n",
       "    </tr>\n",
       "    <tr>\n",
       "      <th>2827</th>\n",
       "      <td>20</td>\n",
       "      <td>IMAGE</td>\n",
       "      <td>0</td>\n",
       "      <td>https://scontent.cdninstagram.com/v/t51.2885-1...</td>\n",
       "      <td>2014-07-04T22:41:05+0000</td>\n",
       "      <td>17841784693063381</td>\n",
       "    </tr>\n",
       "  </tbody>\n",
       "</table>\n",
       "<p>2828 rows × 6 columns</p>\n",
       "</div>"
      ],
      "text/plain": [
       "      like_count      media_type  comments_count  \\\n",
       "0             41           VIDEO               0   \n",
       "1             11  CAROUSEL_ALBUM               0   \n",
       "2             43           VIDEO               0   \n",
       "3              8  CAROUSEL_ALBUM               2   \n",
       "4             27  CAROUSEL_ALBUM               1   \n",
       "...          ...             ...             ...   \n",
       "2823          28           IMAGE               0   \n",
       "2824          27           IMAGE               0   \n",
       "2825          21           IMAGE               3   \n",
       "2826          26           IMAGE               1   \n",
       "2827          20           IMAGE               0   \n",
       "\n",
       "                                              media_url  \\\n",
       "0     https://video.cdninstagram.com/o1/v/t16/f1/m82...   \n",
       "1     https://scontent.cdninstagram.com/v/t51.29350-...   \n",
       "2     https://video.cdninstagram.com/o1/v/t16/f1/m82...   \n",
       "3     https://scontent.cdninstagram.com/v/t51.29350-...   \n",
       "4     https://scontent.cdninstagram.com/v/t51.29350-...   \n",
       "...                                                 ...   \n",
       "2823  https://scontent.cdninstagram.com/v/t51.2885-1...   \n",
       "2824  https://scontent.cdninstagram.com/v/t51.2885-1...   \n",
       "2825  https://scontent.cdninstagram.com/v/t51.2885-1...   \n",
       "2826  https://scontent.cdninstagram.com/v/t51.2885-1...   \n",
       "2827  https://scontent.cdninstagram.com/v/t51.2885-1...   \n",
       "\n",
       "                     timestamp                 id  \n",
       "0     2023-01-24T15:50:58+0000  17953676306238179  \n",
       "1     2023-01-08T13:59:28+0000  18337061332062615  \n",
       "2     2023-01-03T17:33:44+0000  17884478780780159  \n",
       "3     2022-12-01T23:36:34+0000  17944144790302532  \n",
       "4     2022-11-15T11:50:54+0000  18267292720097018  \n",
       "...                        ...                ...  \n",
       "2823  2014-07-08T17:00:19+0000  17842892755063381  \n",
       "2824  2014-07-07T21:51:41+0000  17842892281063381  \n",
       "2825  2014-07-07T18:46:00+0000  17842892053063381  \n",
       "2826  2014-07-06T17:08:34+0000  17842890568063381  \n",
       "2827  2014-07-04T22:41:05+0000  17841784693063381  \n",
       "\n",
       "[2828 rows x 6 columns]"
      ]
     },
     "execution_count": 53,
     "metadata": {},
     "output_type": "execute_result"
    }
   ],
   "source": [
    "df_media_insights.head(-50)"
   ]
  },
  {
   "cell_type": "code",
   "execution_count": 54,
   "id": "turkish-natural",
   "metadata": {},
   "outputs": [],
   "source": [
    "df_media_insights.to_csv('CJ_Instagram_insights_per_Media_(likes,url,comments_count,date,id_2014_to_2023.csv')"
   ]
  },
  {
   "cell_type": "code",
   "execution_count": 55,
   "id": "geographic-episode",
   "metadata": {},
   "outputs": [],
   "source": [
    "df_media_insights.to_excel('CJ_Instagram_insights_per_Media_(likes,url,comments_count,date,id_2014_to_2023.xlsx')"
   ]
  },
  {
   "cell_type": "code",
   "execution_count": 56,
   "id": "regional-engineer",
   "metadata": {},
   "outputs": [
    {
     "data": {
      "text/html": [
       "<div>\n",
       "<style scoped>\n",
       "    .dataframe tbody tr th:only-of-type {\n",
       "        vertical-align: middle;\n",
       "    }\n",
       "\n",
       "    .dataframe tbody tr th {\n",
       "        vertical-align: top;\n",
       "    }\n",
       "\n",
       "    .dataframe thead th {\n",
       "        text-align: right;\n",
       "    }\n",
       "</style>\n",
       "<table border=\"1\" class=\"dataframe\">\n",
       "  <thead>\n",
       "    <tr style=\"text-align: right;\">\n",
       "      <th></th>\n",
       "      <th>like_count</th>\n",
       "      <th>comments_count</th>\n",
       "    </tr>\n",
       "  </thead>\n",
       "  <tbody>\n",
       "    <tr>\n",
       "      <th>count</th>\n",
       "      <td>2878.000000</td>\n",
       "      <td>2878.000000</td>\n",
       "    </tr>\n",
       "    <tr>\n",
       "      <th>mean</th>\n",
       "      <td>81.991313</td>\n",
       "      <td>8.302641</td>\n",
       "    </tr>\n",
       "    <tr>\n",
       "      <th>std</th>\n",
       "      <td>134.045462</td>\n",
       "      <td>87.291491</td>\n",
       "    </tr>\n",
       "    <tr>\n",
       "      <th>min</th>\n",
       "      <td>2.000000</td>\n",
       "      <td>0.000000</td>\n",
       "    </tr>\n",
       "    <tr>\n",
       "      <th>25%</th>\n",
       "      <td>30.000000</td>\n",
       "      <td>0.000000</td>\n",
       "    </tr>\n",
       "    <tr>\n",
       "      <th>50%</th>\n",
       "      <td>44.000000</td>\n",
       "      <td>1.000000</td>\n",
       "    </tr>\n",
       "    <tr>\n",
       "      <th>75%</th>\n",
       "      <td>79.000000</td>\n",
       "      <td>4.000000</td>\n",
       "    </tr>\n",
       "    <tr>\n",
       "      <th>max</th>\n",
       "      <td>1981.000000</td>\n",
       "      <td>3396.000000</td>\n",
       "    </tr>\n",
       "  </tbody>\n",
       "</table>\n",
       "</div>"
      ],
      "text/plain": [
       "        like_count  comments_count\n",
       "count  2878.000000     2878.000000\n",
       "mean     81.991313        8.302641\n",
       "std     134.045462       87.291491\n",
       "min       2.000000        0.000000\n",
       "25%      30.000000        0.000000\n",
       "50%      44.000000        1.000000\n",
       "75%      79.000000        4.000000\n",
       "max    1981.000000     3396.000000"
      ]
     },
     "execution_count": 56,
     "metadata": {},
     "output_type": "execute_result"
    }
   ],
   "source": [
    "df_media_insights.describe()"
   ]
  },
  {
   "cell_type": "code",
   "execution_count": null,
   "id": "written-prevention",
   "metadata": {},
   "outputs": [],
   "source": []
  }
 ],
 "metadata": {
  "kernelspec": {
   "display_name": "Python 3",
   "language": "python",
   "name": "python3"
  },
  "language_info": {
   "codemirror_mode": {
    "name": "ipython",
    "version": 3
   },
   "file_extension": ".py",
   "mimetype": "text/x-python",
   "name": "python",
   "nbconvert_exporter": "python",
   "pygments_lexer": "ipython3",
   "version": "3.6.12"
  }
 },
 "nbformat": 4,
 "nbformat_minor": 5
}
