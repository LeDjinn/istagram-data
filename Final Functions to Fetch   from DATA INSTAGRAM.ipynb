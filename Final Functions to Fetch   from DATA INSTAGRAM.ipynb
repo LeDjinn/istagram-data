{
 "cells": [
  {
   "cell_type": "code",
   "execution_count": 1,
   "id": "conservative-nigeria",
   "metadata": {},
   "outputs": [],
   "source": [
    "import pandas as pd \n",
    "import numpy as np\n",
    "import requests\n",
    "from dateutil.rrule import rrule, WEEKLY\n",
    "from datetime import datetime"
   ]
  },
  {
   "cell_type": "code",
   "execution_count": 89,
   "id": "cooperative-episode",
   "metadata": {},
   "outputs": [],
   "source": [
    "def fetch_general_metric():\n",
    "            start_date=\"2023-02-01\"\n",
    "            end_date = \"2023-03-01\"\n",
    "            token =\"EAAmNvp7ZCK7kBACvQYxKgOZAmAPCKxDcxPI7wiAErawcow0eWPsB3KAKJuSmZBVpObUhzCwnyyPXTmYq20iwEdIfBJV3QcVO9K9Lhb5jZBI46d16BeNUwXZAuIEAq7eQCRNO30aHZCmRzb9ZCBIGuutZCfVSZCtAwZBA0u8ZC6SpJzzZAgZDZD\"\n",
    "            url_reach_impressions = f\"https://graph.facebook.com/v15.0/17841401901416928/insights?limit=1000&until={end_date}&since={start_date}&period=day&metric=impressions%2Creach&metric_type=total_value&access_token={token}\"\n",
    "\n",
    "            res = requests.get(url_reach_impressions)\n",
    "            if res.ok:\n",
    "                hash_for_insta_general = res.json()\n",
    "                impressions = hash_for_insta_general['data'][0]['total_value']['value']\n",
    "                reach = hash_for_insta_general['data'][1]['total_value']['value']\n",
    "            else:\n",
    "                return f'{res.json()} its from response1'\n",
    "                \n",
    "            url_followers_unfollowers = f\"https://graph.facebook.com/v15.0/17841401901416928/insights?limit=1000&until={end_date}&since={start_date}&period=day&metric=follows_and_unfollows&metric_type=total_value&breakdown=follow_type&access_token={token}\"\n",
    "            res_followers = requests.get(url_followers_unfollowers)\n",
    "            if res_followers.ok:\n",
    "                hash_for_insta_followers = res_followers.json()\n",
    "                followers = hash_for_insta_followers['data'][0]['total_value']['breakdowns'][0]['results'][0]['value']\n",
    "                unfollowers = hash_for_insta_followers['data'][0]['total_value']['breakdowns'][0]['results'][1]['value']\n",
    "            else:\n",
    "                return f'{res_followers} its from response 2'\n",
    "\n",
    "            return [impressions, reach, followers, unfollowers]\n",
    "\n",
    "\n"
   ]
  },
  {
   "cell_type": "code",
   "execution_count": 103,
   "id": "gothic-involvement",
   "metadata": {},
   "outputs": [],
   "source": [
    "def fetch_data_media_impressions_reach(media_id):\n",
    "    token =\"EAAmNvp7ZCK7kBACvQYxKgOZAmAPCKxDcxPI7wiAErawcow0eWPsB3KAKJuSmZBVpObUhzCwnyyPXTmYq20iwEdIfBJV3QcVO9K9Lhb5jZBI46d16BeNUwXZAuIEAq7eQCRNO30aHZCmRzb9ZCBIGuutZCfVSZCtAwZBA0u8ZC6SpJzzZAgZDZD\"\n",
    "    url= f'https://graph.facebook.com/v15.0/{media_id}/insights/reach/lifetime?access_token={token}'\n",
    "    r = requests.get(url)\n",
    "    json=r.json()\n",
    "    return json"
   ]
  },
  {
   "cell_type": "code",
   "execution_count": 97,
   "id": "organic-thailand",
   "metadata": {},
   "outputs": [],
   "source": [
    "def fetch_data_media(media_id):\n",
    "    token =\"EAAmNvp7ZCK7kBACvQYxKgOZAmAPCKxDcxPI7wiAErawcow0eWPsB3KAKJuSmZBVpObUhzCwnyyPXTmYq20iwEdIfBJV3QcVO9K9Lhb5jZBI46d16BeNUwXZAuIEAq7eQCRNO30aHZCmRzb9ZCBIGuutZCfVSZCtAwZBA0u8ZC6SpJzzZAgZDZD\"\n",
    "    url= f'https://graph.facebook.com/v15.0/{media_id}?fields=like_count%2Cmedia_type%2Ccomments_count%2Cmedia_url%2Ctimestamp&access_token={token}'\n",
    "    r = requests.get(url)\n",
    "    json=r.json()\n",
    "    return json"
   ]
  },
  {
   "cell_type": "code",
   "execution_count": null,
   "id": "moderate-pantyhose",
   "metadata": {},
   "outputs": [],
   "source": []
  },
  {
   "cell_type": "code",
   "execution_count": null,
   "id": "ordered-ethics",
   "metadata": {},
   "outputs": [],
   "source": []
  },
  {
   "cell_type": "code",
   "execution_count": 58,
   "id": "indonesian-syndrome",
   "metadata": {},
   "outputs": [],
   "source": [
    "df_per_media= pd.read_csv('CJ_Instagram_insights_per_Media_(likes,url,comments_count,date,id_2014_to_2023.csv')"
   ]
  },
  {
   "cell_type": "code",
   "execution_count": null,
   "id": "wicked-criterion",
   "metadata": {},
   "outputs": [],
   "source": []
  },
  {
   "cell_type": "code",
   "execution_count": 61,
   "id": "mental-trunk",
   "metadata": {},
   "outputs": [],
   "source": [
    "values = [d['id'] for d in json['data']]"
   ]
  },
  {
   "cell_type": "code",
   "execution_count": 83,
   "id": "leading-merchandise",
   "metadata": {},
   "outputs": [
    {
     "name": "stdout",
     "output_type": "stream",
     "text": [
      "<class 'str'>\n",
      "<class 'numpy.int64'>\n"
     ]
    }
   ],
   "source": []
  },
  {
   "cell_type": "code",
   "execution_count": 85,
   "id": "cultural-aerospace",
   "metadata": {},
   "outputs": [],
   "source": []
  },
  {
   "cell_type": "code",
   "execution_count": 86,
   "id": "diagnostic-damages",
   "metadata": {},
   "outputs": [],
   "source": [
    "array_new_media_id = compare_series_and_array(df_per_media.id, values)"
   ]
  },
  {
   "cell_type": "code",
   "execution_count": 104,
   "id": "expected-template",
   "metadata": {},
   "outputs": [],
   "source": [
    "array_data_media=[]\n",
    "for media in array_new_media_id:\n",
    "    array_data_media.append(fetch_data_media_impressions_reach(media))"
   ]
  },
  {
   "cell_type": "code",
   "execution_count": 105,
   "id": "consistent-sleeve",
   "metadata": {},
   "outputs": [
    {
     "data": {
      "text/plain": [
       "[{'data': [{'name': 'reach',\n",
       "    'period': 'lifetime',\n",
       "    'values': [{'value': 255}],\n",
       "    'title': 'Couverture',\n",
       "    'description': 'Nombre total de comptes uniques ayant vu le média',\n",
       "    'id': '17991454111790880/insights/reach/lifetime'}]},\n",
       " {'data': [{'name': 'reach',\n",
       "    'period': 'lifetime',\n",
       "    'values': [{'value': 1374}],\n",
       "    'title': 'Comptes touchés',\n",
       "    'description': 'Le nombre de comptes uniques qui ont vu ce reel au moins une fois. La couverture est différente des impressions, qui peuvent inclure plusieurs vues de votre reel par les mêmes comptes. Cet indicateur est une estimation.',\n",
       "    'id': '18017291863518682/insights/reach/lifetime'}]},\n",
       " {'data': [{'name': 'reach',\n",
       "    'period': 'lifetime',\n",
       "    'values': [{'value': 6999}],\n",
       "    'title': 'Comptes touchés',\n",
       "    'description': 'Le nombre de comptes uniques qui ont vu ce reel au moins une fois. La couverture est différente des impressions, qui peuvent inclure plusieurs vues de votre reel par les mêmes comptes. Cet indicateur est une estimation.',\n",
       "    'id': '17964307361219854/insights/reach/lifetime'}]},\n",
       " {'data': [{'name': 'reach',\n",
       "    'period': 'lifetime',\n",
       "    'values': [{'value': 3028}],\n",
       "    'title': 'Comptes touchés',\n",
       "    'description': 'Le nombre de comptes uniques qui ont vu ce reel au moins une fois. La couverture est différente des impressions, qui peuvent inclure plusieurs vues de votre reel par les mêmes comptes. Cet indicateur est une estimation.',\n",
       "    'id': '17987909575795073/insights/reach/lifetime'}]}]"
      ]
     },
     "execution_count": 105,
     "metadata": {},
     "output_type": "execute_result"
    }
   ],
   "source": [
    "array_data_media"
   ]
  },
  {
   "cell_type": "code",
   "execution_count": 80,
   "id": "swedish-bankruptcy",
   "metadata": {},
   "outputs": [
    {
     "name": "stdout",
     "output_type": "stream",
     "text": [
      "17953676306238179 does not exist in the array\n"
     ]
    },
    {
     "name": "stderr",
     "output_type": "stream",
     "text": [
      "/home/ledjinn/miniconda3/envs/6.86x/lib/python3.6/site-packages/ipykernel_launcher.py:4: FutureWarning: elementwise comparison failed; returning scalar instead, but in the future will perform elementwise comparison\n",
      "  after removing the cwd from sys.path.\n"
     ]
    }
   ],
   "source": [
    "arr = np.array(values)\n",
    "\n",
    "# Check if a value exists using the 'in' operator\n",
    "if df_per_media.id[1500] in arr:\n",
    "    print(f\"{df_per_media.id[0]} exists in the array\")\n",
    "else:\n",
    "    print(f\"{df_per_media.id[0]} does not exist in the array\")\n",
    "\n",
    "# Check if multiple values exist using the 'isin' function\n"
   ]
  },
  {
   "cell_type": "code",
   "execution_count": null,
   "id": "comic-chorus",
   "metadata": {},
   "outputs": [],
   "source": [
    "reach%2Cimpressions/lifetime?"
   ]
  },
  {
   "cell_type": "code",
   "execution_count": null,
   "id": "lucky-valve",
   "metadata": {},
   "outputs": [],
   "source": []
  }
 ],
 "metadata": {
  "kernelspec": {
   "display_name": "Python 3",
   "language": "python",
   "name": "python3"
  },
  "language_info": {
   "codemirror_mode": {
    "name": "ipython",
    "version": 3
   },
   "file_extension": ".py",
   "mimetype": "text/x-python",
   "name": "python",
   "nbconvert_exporter": "python",
   "pygments_lexer": "ipython3",
   "version": "3.6.12"
  }
 },
 "nbformat": 4,
 "nbformat_minor": 5
}
