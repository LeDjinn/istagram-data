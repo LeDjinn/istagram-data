{
 "cells": [
  {
   "cell_type": "code",
   "execution_count": 1,
   "id": "international-street",
   "metadata": {},
   "outputs": [],
   "source": [
    "import requests\n"
   ]
  },
  {
   "cell_type": "code",
   "execution_count": 12,
   "id": "textile-ordinance",
   "metadata": {},
   "outputs": [],
   "source": [
    "token =\"EAAmNvp7ZCK7kBANpm3sdMScQF7oAqdxcZBYU2u1GkZCqgygcgncYwhxjjAlYmyyY2DcvtKgp6scYuEZBYS4EKh1y0basQH5YRUMzge4PCT3PWSZC0xtWgbi5FUJukuMhbHAq7obwaI9rcUAlZArgZB2PJzaFPAL1abuEVjeY0kHqwvsW5BE0ONjmZANw8TtwtBKHE3URvwASMQZDZD\""
   ]
  },
  {
   "cell_type": "code",
   "execution_count": 13,
   "id": "exposed-metadata",
   "metadata": {},
   "outputs": [],
   "source": [
    "url=f'https://graph.facebook.com/v15.0/oauth/access_token?grant_type=fb_exchange_token&client_id=2689124641221561&client_secret=a7b19a574bf7084d340cfd4d54063029&fb_exchange_token={token}'"
   ]
  },
  {
   "cell_type": "code",
   "execution_count": 14,
   "id": "grave-percentage",
   "metadata": {},
   "outputs": [],
   "source": [
    "r= requests.get(url)"
   ]
  },
  {
   "cell_type": "code",
   "execution_count": 9,
   "id": "actual-steps",
   "metadata": {},
   "outputs": [],
   "source": [
    "url_2=\"https://graph.facebook.com/v15.0/17841401901416928/insights?metric=impressions&period=day&since=2023-01-02&until=2023-02-15&access_token=EAAmNvp7ZCK7kBAKUdjIGILwRG4UQjO4OaZAZBWxQ3nWI1e4ZCIsYUAJaJ0pyFg1BkFtZAsXtSldubhVTcWrRomcH5FtCB1JiIMbeOWffPZBwI7N8KAboUEAJFRQqwcLLZBEWHuO8v1OBweelAmT5lNrH0PTgJZCIsNyXVULwOAY04gZDZD\""
   ]
  },
  {
   "cell_type": "code",
   "execution_count": 10,
   "id": "executed-wednesday",
   "metadata": {},
   "outputs": [],
   "source": [
    "r2=requests.get(url_2)"
   ]
  },
  {
   "cell_type": "code",
   "execution_count": 15,
   "id": "bizarre-episode",
   "metadata": {},
   "outputs": [],
   "source": [
    "json=r.json"
   ]
  },
  {
   "cell_type": "code",
   "execution_count": 16,
   "id": "brutal-termination",
   "metadata": {},
   "outputs": [
    {
     "data": {
      "text/plain": [
       "b'{\"access_token\":\"EAAmNvp7ZCK7kBAK52g5UkmH7Q6GimMFgWUTWlSZBa2rcDBzNzKfXu60OOkT6uLDbesU7T4jOuL1k1vJVvDqshCgBEiZAaDSE6zQjBw6AZB2ZB6FykK9U8FLX6WHgZCTp387MU1CxnzvbZCT01hqaDFwYjS7RITytlqUIZBn9M88oLQZDZD\",\"token_type\":\"bearer\",\"expires_in\":5184000}'"
      ]
     },
     "execution_count": 16,
     "metadata": {},
     "output_type": "execute_result"
    }
   ],
   "source": [
    "r.content"
   ]
  },
  {
   "cell_type": "code",
   "execution_count": 11,
   "id": "stunning-bunch",
   "metadata": {},
   "outputs": [
    {
     "data": {
      "text/plain": [
       "b'{\"error\":{\"message\":\"Error validating access token: Session has expired on Monday, 17-Apr-23 06:14:32 PDT. The current time is Tuesday, 02-May-23 04:13:29 PDT.\",\"type\":\"OAuthException\",\"code\":190,\"error_subcode\":463,\"fbtrace_id\":\"A8jk2mAfrLccf1UOvrJ4OAH\"}}'"
      ]
     },
     "execution_count": 11,
     "metadata": {},
     "output_type": "execute_result"
    }
   ],
   "source": [
    "r2.content"
   ]
  },
  {
   "cell_type": "code",
   "execution_count": 10,
   "id": "quarterly-official",
   "metadata": {},
   "outputs": [],
   "source": [
    "def fetch_data_media(media_id):\n",
    "    url= f'https://graph.facebook.com/v15.0/{media_id}?fields=like_count%2Cmedia_type%2Ccomments_count%2Cmedia_url%2Ctimestamp&access_token=EAAmNvp7ZCK7kBACvQYxKgOZAmAPCKxDcxPI7wiAErawcow0eWPsB3KAKJuSmZBVpObUhzCwnyyPXTmYq20iwEdIfBJV3QcVO9K9Lhb5jZBI46d16BeNUwXZAuIEAq7eQCRNO30aHZCmRzb9ZCBIGuutZCfVSZCtAwZBA0u8ZC6SpJzzZAgZDZD'\n",
    "    r = requests.get(url)\n",
    "    json=r.json()\n",
    "    return json"
   ]
  },
  {
   "cell_type": "code",
   "execution_count": 12,
   "id": "expanded-somerset",
   "metadata": {},
   "outputs": [
    {
     "data": {
      "text/plain": [
       "{'like_count': 145,\n",
       " 'media_type': 'VIDEO',\n",
       " 'comments_count': 0,\n",
       " 'media_url': 'https://video.cdninstagram.com/o1/v/t16/f1/m82/DC456CC220465F10EE4FFB2F2223B4AC_video_dashinit.mp4?efg=eyJ2ZW5jb2RlX3RhZyI6InZ0c192b2RfdXJsZ2VuLjEyNzYuY2xpcHMifQ&_nc_ht=video.cdninstagram.com&_nc_cat=100&vs=526929982752374_2202957288&_nc_vs=HBksFQIYT2lnX3hwdl9yZWVsc19wZXJtYW5lbnRfcHJvZC9EQzQ1NkNDMjIwNDY1RjEwRUU0RkZCMkYyMjIzQjRBQ192aWRlb19kYXNoaW5pdC5tcDQVAALIAQAVABgkR0ZNVWt4TjREVloyS1pjRUFMbzI1bVR3aU0xVmJxX0VBQUFGFQICyAEAKAAYABsBiAd1c2Vfb2lsATEVAAAmxvbIk%2Bmg6z8VAigCQzMsF0BNXMzMzMzNGBJkYXNoX2Jhc2VsaW5lXzFfdjERAHUAAA%3D%3D&ccb=9-4&oh=00_AfAyr9f5yhpRMWC_AqwTQ7VFEv-p2Y9U07m5JuLLz2YNiw&oe=63F52359&_nc_sid=ea0b6e&_nc_rid=ebc44b5d94',\n",
       " 'timestamp': '2023-01-31T11:27:03+0000',\n",
       " 'id': '17964307361219854'}"
      ]
     },
     "execution_count": 12,
     "metadata": {},
     "output_type": "execute_result"
    }
   ],
   "source": [
    "fetch_data_media('17964307361219854')"
   ]
  },
  {
   "cell_type": "code",
   "execution_count": null,
   "id": "stable-affect",
   "metadata": {},
   "outputs": [],
   "source": [
    "\n",
    " \"https://graph.facebook.com/v15.0/17964307361219854?fields=media_product_type%2Clike_count%2Cpermalink%2Ccomments_count&access_token=\""
   ]
  }
 ],
 "metadata": {
  "kernelspec": {
   "display_name": "Python 3",
   "language": "python",
   "name": "python3"
  },
  "language_info": {
   "codemirror_mode": {
    "name": "ipython",
    "version": 3
   },
   "file_extension": ".py",
   "mimetype": "text/x-python",
   "name": "python",
   "nbconvert_exporter": "python",
   "pygments_lexer": "ipython3",
   "version": "3.6.12"
  }
 },
 "nbformat": 4,
 "nbformat_minor": 5
}
