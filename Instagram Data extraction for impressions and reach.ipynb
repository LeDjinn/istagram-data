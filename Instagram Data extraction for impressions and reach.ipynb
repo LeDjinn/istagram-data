{
 "cells": [
  {
   "cell_type": "code",
   "execution_count": 24,
   "id": "forced-composition",
   "metadata": {},
   "outputs": [],
   "source": [
    "from dateutil.rrule import rrule, WEEKLY\n",
    "from datetime import datetime\n"
   ]
  },
  {
   "cell_type": "code",
   "execution_count": 142,
   "id": "selective-newcastle",
   "metadata": {},
   "outputs": [],
   "source": [
    "start_date = datetime(2021, 2, 7)\n",
    "end_date = datetime.now()\n",
    "weeks_starting = list(rrule(WEEKLY, dtstart=start_date, until=end_date))"
   ]
  },
  {
   "cell_type": "code",
   "execution_count": 143,
   "id": "stuffed-tunnel",
   "metadata": {},
   "outputs": [],
   "source": [
    "start_date = datetime(2021,2,15)\n",
    "end_date = datetime.now()\n",
    "weeks_ending = list(rrule(WEEKLY, dtstart=start_date, until=end_date))"
   ]
  },
  {
   "cell_type": "code",
   "execution_count": 144,
   "id": "failing-boutique",
   "metadata": {},
   "outputs": [
    {
     "data": {
      "text/plain": [
       "datetime.datetime(2021, 3, 7, 0, 0)"
      ]
     },
     "execution_count": 144,
     "metadata": {},
     "output_type": "execute_result"
    }
   ],
   "source": [
    "weeks_starting[4]"
   ]
  },
  {
   "cell_type": "code",
   "execution_count": 145,
   "id": "remarkable-cricket",
   "metadata": {},
   "outputs": [
    {
     "data": {
      "text/plain": [
       "datetime.datetime(2023, 1, 22, 0, 0)"
      ]
     },
     "execution_count": 145,
     "metadata": {},
     "output_type": "execute_result"
    }
   ],
   "source": [
    "weeks_starting=weeks_starting[:-1]\n",
    "weeks_starting[len(weeks_starting)-1]"
   ]
  },
  {
   "cell_type": "code",
   "execution_count": 146,
   "id": "temporal-salmon",
   "metadata": {},
   "outputs": [],
   "source": [
    "weeks_starting_final=[str(date)[:-9] for date in weeks_starting]\n",
    "weeks_ending_final= [str(date)[:-9] for date in weeks_ending]"
   ]
  },
  {
   "cell_type": "code",
   "execution_count": 147,
   "id": "running-casting",
   "metadata": {},
   "outputs": [
    {
     "data": {
      "text/plain": [
       "'2022-02-28'"
      ]
     },
     "execution_count": 147,
     "metadata": {},
     "output_type": "execute_result"
    }
   ],
   "source": [
    "weeks_ending_final[54]"
   ]
  },
  {
   "cell_type": "code",
   "execution_count": null,
   "id": "minor-wagner",
   "metadata": {},
   "outputs": [],
   "source": []
  },
  {
   "cell_type": "code",
   "execution_count": 16,
   "id": "tutorial-woman",
   "metadata": {},
   "outputs": [],
   "source": [
    "import requests"
   ]
  },
  {
   "cell_type": "code",
   "execution_count": null,
   "id": "upper-logistics",
   "metadata": {},
   "outputs": [],
   "source": []
  },
  {
   "cell_type": "code",
   "execution_count": 137,
   "id": "thick-jason",
   "metadata": {},
   "outputs": [],
   "source": [
    "metric = ['impressions','reach']\n",
    "date_start= '2021-02-07'\n",
    "date_end ='2021-02-08'\n",
    "tokken = \"EAAmNvp7ZCK7kBAMVz6ky6zkjcSTvBdY5goZC5qvTo3Tiy927lZAcvukDZBCcOKQt4ZCEjuNQ3CZA1q8Db6VZAlybHcq4MHdaZAfudh2tZBGLyjNANkHkS3NXH5q2beZCYrjEIOTio4D3KhoTdgqm1I2EluN2ZArldcDgUlO9eCOCow2TbPbe7ijbly8dpiglqbTuKUZD\"\n",
    "\n"
   ]
  },
  {
   "cell_type": "code",
   "execution_count": 138,
   "id": "executed-background",
   "metadata": {},
   "outputs": [],
   "source": [
    "url = f\"https://graph.facebook.com/v15.0/17841401901416928/insights?metric={metric[0]}&period=week&since={date_start}&until={date_end}&access_token={tokken}\""
   ]
  },
  {
   "cell_type": "code",
   "execution_count": 139,
   "id": "mounted-pearl",
   "metadata": {},
   "outputs": [
    {
     "name": "stdout",
     "output_type": "stream",
     "text": [
      "https://graph.facebook.com/v15.0/17841401901416928/insights?metric=impressions&period=week&since=2021-02-07&until=2021-02-08&access_token=EAAmNvp7ZCK7kBAMVz6ky6zkjcSTvBdY5goZC5qvTo3Tiy927lZAcvukDZBCcOKQt4ZCEjuNQ3CZA1q8Db6VZAlybHcq4MHdaZAfudh2tZBGLyjNANkHkS3NXH5q2beZCYrjEIOTio4D3KhoTdgqm1I2EluN2ZArldcDgUlO9eCOCow2TbPbe7ijbly8dpiglqbTuKUZD\n"
     ]
    }
   ],
   "source": [
    "print(url)"
   ]
  },
  {
   "cell_type": "code",
   "execution_count": 140,
   "id": "spread-groove",
   "metadata": {},
   "outputs": [],
   "source": [
    "r = requests.get(url)"
   ]
  },
  {
   "cell_type": "code",
   "execution_count": 141,
   "id": "aware-satisfaction",
   "metadata": {},
   "outputs": [
    {
     "data": {
      "text/plain": [
       "<Response [200]>"
      ]
     },
     "execution_count": 141,
     "metadata": {},
     "output_type": "execute_result"
    }
   ],
   "source": [
    "r\n"
   ]
  },
  {
   "cell_type": "code",
   "execution_count": 74,
   "id": "further-prague",
   "metadata": {},
   "outputs": [],
   "source": [
    "json=r.json()"
   ]
  },
  {
   "cell_type": "code",
   "execution_count": 75,
   "id": "ready-polish",
   "metadata": {},
   "outputs": [
    {
     "data": {
      "text/plain": [
       "[{'name': 'impressions',\n",
       "  'period': 'week',\n",
       "  'values': [{'value': 449, 'end_time': '2021-07-07T07:00:00+0000'},\n",
       "   {'value': 424, 'end_time': '2021-07-08T07:00:00+0000'},\n",
       "   {'value': 440, 'end_time': '2021-07-09T07:00:00+0000'},\n",
       "   {'value': 520, 'end_time': '2021-07-10T07:00:00+0000'},\n",
       "   {'value': 503, 'end_time': '2021-07-11T07:00:00+0000'},\n",
       "   {'value': 652, 'end_time': '2021-07-12T07:00:00+0000'},\n",
       "   {'value': 1781, 'end_time': '2021-07-13T07:00:00+0000'}],\n",
       "  'title': 'Impressions',\n",
       "  'description': 'Nombre total de vues des médias du compte professionnel',\n",
       "  'id': '17841401901416928/insights/impressions/week'}]"
      ]
     },
     "execution_count": 75,
     "metadata": {},
     "output_type": "execute_result"
    }
   ],
   "source": [
    "json['data']\n",
    "\n"
   ]
  },
  {
   "cell_type": "code",
   "execution_count": 60,
   "id": "resident-carbon",
   "metadata": {},
   "outputs": [
    {
     "data": {
      "text/plain": [
       "dict"
      ]
     },
     "execution_count": 60,
     "metadata": {},
     "output_type": "execute_result"
    }
   ],
   "source": [
    "type(json['data'][0]['values'][0])"
   ]
  },
  {
   "cell_type": "code",
   "execution_count": 61,
   "id": "faced-render",
   "metadata": {},
   "outputs": [],
   "source": [
    "import pandas as pd"
   ]
  },
  {
   "cell_type": "code",
   "execution_count": 62,
   "id": "pregnant-validity",
   "metadata": {},
   "outputs": [],
   "source": [
    "df = pd.DataFrame(json['data'][0]['values'])"
   ]
  },
  {
   "cell_type": "code",
   "execution_count": null,
   "id": "traditional-compromise",
   "metadata": {},
   "outputs": [],
   "source": [
    "df.head(7)"
   ]
  },
  {
   "cell_type": "code",
   "execution_count": 148,
   "id": "bridal-excess",
   "metadata": {},
   "outputs": [],
   "source": [
    "df_dates = pd.DataFrame({\"start\": weeks_starting_final, \"end\": weeks_ending_final})"
   ]
  },
  {
   "cell_type": "code",
   "execution_count": 149,
   "id": "wanted-twelve",
   "metadata": {},
   "outputs": [
    {
     "data": {
      "text/html": [
       "<div>\n",
       "<style scoped>\n",
       "    .dataframe tbody tr th:only-of-type {\n",
       "        vertical-align: middle;\n",
       "    }\n",
       "\n",
       "    .dataframe tbody tr th {\n",
       "        vertical-align: top;\n",
       "    }\n",
       "\n",
       "    .dataframe thead th {\n",
       "        text-align: right;\n",
       "    }\n",
       "</style>\n",
       "<table border=\"1\" class=\"dataframe\">\n",
       "  <thead>\n",
       "    <tr style=\"text-align: right;\">\n",
       "      <th></th>\n",
       "      <th>start</th>\n",
       "      <th>end</th>\n",
       "    </tr>\n",
       "  </thead>\n",
       "  <tbody>\n",
       "    <tr>\n",
       "      <th>0</th>\n",
       "      <td>2021-02-07</td>\n",
       "      <td>2021-02-15</td>\n",
       "    </tr>\n",
       "    <tr>\n",
       "      <th>1</th>\n",
       "      <td>2021-02-14</td>\n",
       "      <td>2021-02-22</td>\n",
       "    </tr>\n",
       "    <tr>\n",
       "      <th>2</th>\n",
       "      <td>2021-02-21</td>\n",
       "      <td>2021-03-01</td>\n",
       "    </tr>\n",
       "    <tr>\n",
       "      <th>3</th>\n",
       "      <td>2021-02-28</td>\n",
       "      <td>2021-03-08</td>\n",
       "    </tr>\n",
       "    <tr>\n",
       "      <th>4</th>\n",
       "      <td>2021-03-07</td>\n",
       "      <td>2021-03-15</td>\n",
       "    </tr>\n",
       "  </tbody>\n",
       "</table>\n",
       "</div>"
      ],
      "text/plain": [
       "        start         end\n",
       "0  2021-02-07  2021-02-15\n",
       "1  2021-02-14  2021-02-22\n",
       "2  2021-02-21  2021-03-01\n",
       "3  2021-02-28  2021-03-08\n",
       "4  2021-03-07  2021-03-15"
      ]
     },
     "execution_count": 149,
     "metadata": {},
     "output_type": "execute_result"
    }
   ],
   "source": [
    "df_dates.head()"
   ]
  },
  {
   "cell_type": "code",
   "execution_count": 108,
   "id": "inclusive-blond",
   "metadata": {},
   "outputs": [],
   "source": [
    "def fetch_data(start,end, metric,tokken):\n",
    "    url= f\"https://graph.facebook.com/v15.0/17841401901416928/insights?metric={metric}&period=day&since={start}&until={end}&access_token={tokken}\"\n",
    "    r = requests.get(url)\n",
    "    json=r.json()\n",
    "    df = pd.DataFrame(json['data'][0]['values'])\n",
    "    return df"
   ]
  },
  {
   "cell_type": "code",
   "execution_count": 109,
   "id": "independent-intervention",
   "metadata": {},
   "outputs": [
    {
     "data": {
      "text/plain": [
       "(104, 2)"
      ]
     },
     "execution_count": 109,
     "metadata": {},
     "output_type": "execute_result"
    }
   ],
   "source": [
    "df_dates.shape"
   ]
  },
  {
   "cell_type": "code",
   "execution_count": 150,
   "id": "annual-miracle",
   "metadata": {
    "scrolled": false
   },
   "outputs": [
    {
     "data": {
      "text/html": [
       "<div>\n",
       "<style scoped>\n",
       "    .dataframe tbody tr th:only-of-type {\n",
       "        vertical-align: middle;\n",
       "    }\n",
       "\n",
       "    .dataframe tbody tr th {\n",
       "        vertical-align: top;\n",
       "    }\n",
       "\n",
       "    .dataframe thead th {\n",
       "        text-align: right;\n",
       "    }\n",
       "</style>\n",
       "<table border=\"1\" class=\"dataframe\">\n",
       "  <thead>\n",
       "    <tr style=\"text-align: right;\">\n",
       "      <th></th>\n",
       "      <th>value</th>\n",
       "      <th>end_time</th>\n",
       "    </tr>\n",
       "  </thead>\n",
       "  <tbody>\n",
       "    <tr>\n",
       "      <th>0</th>\n",
       "      <td>1438</td>\n",
       "      <td>2021-02-07T08:00:00+0000</td>\n",
       "    </tr>\n",
       "  </tbody>\n",
       "</table>\n",
       "</div>"
      ],
      "text/plain": [
       "   value                  end_time\n",
       "0   1438  2021-02-07T08:00:00+0000"
      ]
     },
     "execution_count": 150,
     "metadata": {},
     "output_type": "execute_result"
    }
   ],
   "source": [
    "fetch_data(date_start,date_end,metric[0],tokken)"
   ]
  },
  {
   "cell_type": "code",
   "execution_count": 151,
   "id": "automatic-reference",
   "metadata": {},
   "outputs": [],
   "source": [
    "test_array = pd.DataFrame({'impressions': [],'date': []})\n",
    "for index, row in df_dates.iterrows():\n",
    "     test_array = test_array.append({'impressions': row['start'], 'date': row['end']}, ignore_index=True)\n",
    "    "
   ]
  },
  {
   "cell_type": "code",
   "execution_count": 152,
   "id": "smoking-cabin",
   "metadata": {},
   "outputs": [
    {
     "data": {
      "text/plain": [
       "(103, 2)"
      ]
     },
     "execution_count": 152,
     "metadata": {},
     "output_type": "execute_result"
    }
   ],
   "source": [
    "test_array.shape\n"
   ]
  },
  {
   "cell_type": "code",
   "execution_count": 153,
   "id": "deluxe-jewel",
   "metadata": {},
   "outputs": [
    {
     "data": {
      "text/html": [
       "<div>\n",
       "<style scoped>\n",
       "    .dataframe tbody tr th:only-of-type {\n",
       "        vertical-align: middle;\n",
       "    }\n",
       "\n",
       "    .dataframe tbody tr th {\n",
       "        vertical-align: top;\n",
       "    }\n",
       "\n",
       "    .dataframe thead th {\n",
       "        text-align: right;\n",
       "    }\n",
       "</style>\n",
       "<table border=\"1\" class=\"dataframe\">\n",
       "  <thead>\n",
       "    <tr style=\"text-align: right;\">\n",
       "      <th></th>\n",
       "      <th>start</th>\n",
       "      <th>end</th>\n",
       "    </tr>\n",
       "  </thead>\n",
       "  <tbody>\n",
       "    <tr>\n",
       "      <th>0</th>\n",
       "      <td>2021-02-07</td>\n",
       "      <td>2021-02-15</td>\n",
       "    </tr>\n",
       "  </tbody>\n",
       "</table>\n",
       "</div>"
      ],
      "text/plain": [
       "        start         end\n",
       "0  2021-02-07  2021-02-15"
      ]
     },
     "execution_count": 153,
     "metadata": {},
     "output_type": "execute_result"
    }
   ],
   "source": [
    "df_dates[0:1]"
   ]
  },
  {
   "cell_type": "code",
   "execution_count": 154,
   "id": "studied-invitation",
   "metadata": {},
   "outputs": [],
   "source": [
    "array_df=[]\n",
    "for index, row in df_dates.iterrows():\n",
    "    array_df.append(fetch_data(row['start'],row['end'],metric[0],tokken))"
   ]
  },
  {
   "cell_type": "code",
   "execution_count": 69,
   "id": "matched-burns",
   "metadata": {
    "scrolled": true
   },
   "outputs": [
    {
     "data": {
      "text/plain": [
       "0"
      ]
     },
     "execution_count": 69,
     "metadata": {},
     "output_type": "execute_result"
    }
   ],
   "source": [
    "len(array_df)"
   ]
  },
  {
   "cell_type": "code",
   "execution_count": 155,
   "id": "fourth-keyboard",
   "metadata": {},
   "outputs": [],
   "source": [
    "df_impressions=pd.concat(array_df,ignore_index=True)\n"
   ]
  },
  {
   "cell_type": "code",
   "execution_count": 156,
   "id": "musical-shore",
   "metadata": {},
   "outputs": [
    {
     "data": {
      "text/html": [
       "<div>\n",
       "<style scoped>\n",
       "    .dataframe tbody tr th:only-of-type {\n",
       "        vertical-align: middle;\n",
       "    }\n",
       "\n",
       "    .dataframe tbody tr th {\n",
       "        vertical-align: top;\n",
       "    }\n",
       "\n",
       "    .dataframe thead th {\n",
       "        text-align: right;\n",
       "    }\n",
       "</style>\n",
       "<table border=\"1\" class=\"dataframe\">\n",
       "  <thead>\n",
       "    <tr style=\"text-align: right;\">\n",
       "      <th></th>\n",
       "      <th>value</th>\n",
       "      <th>end_time</th>\n",
       "    </tr>\n",
       "  </thead>\n",
       "  <tbody>\n",
       "    <tr>\n",
       "      <th>0</th>\n",
       "      <td>1438</td>\n",
       "      <td>2021-02-07T08:00:00+0000</td>\n",
       "    </tr>\n",
       "    <tr>\n",
       "      <th>1</th>\n",
       "      <td>1195</td>\n",
       "      <td>2021-02-08T08:00:00+0000</td>\n",
       "    </tr>\n",
       "    <tr>\n",
       "      <th>2</th>\n",
       "      <td>451</td>\n",
       "      <td>2021-02-09T08:00:00+0000</td>\n",
       "    </tr>\n",
       "    <tr>\n",
       "      <th>3</th>\n",
       "      <td>108</td>\n",
       "      <td>2021-02-10T08:00:00+0000</td>\n",
       "    </tr>\n",
       "    <tr>\n",
       "      <th>4</th>\n",
       "      <td>163</td>\n",
       "      <td>2021-02-11T08:00:00+0000</td>\n",
       "    </tr>\n",
       "    <tr>\n",
       "      <th>5</th>\n",
       "      <td>915</td>\n",
       "      <td>2021-02-12T08:00:00+0000</td>\n",
       "    </tr>\n",
       "    <tr>\n",
       "      <th>6</th>\n",
       "      <td>578</td>\n",
       "      <td>2021-02-13T08:00:00+0000</td>\n",
       "    </tr>\n",
       "    <tr>\n",
       "      <th>7</th>\n",
       "      <td>170</td>\n",
       "      <td>2021-02-14T08:00:00+0000</td>\n",
       "    </tr>\n",
       "    <tr>\n",
       "      <th>8</th>\n",
       "      <td>170</td>\n",
       "      <td>2021-02-14T08:00:00+0000</td>\n",
       "    </tr>\n",
       "    <tr>\n",
       "      <th>9</th>\n",
       "      <td>97</td>\n",
       "      <td>2021-02-15T08:00:00+0000</td>\n",
       "    </tr>\n",
       "    <tr>\n",
       "      <th>10</th>\n",
       "      <td>649</td>\n",
       "      <td>2021-02-16T08:00:00+0000</td>\n",
       "    </tr>\n",
       "    <tr>\n",
       "      <th>11</th>\n",
       "      <td>84</td>\n",
       "      <td>2021-02-17T08:00:00+0000</td>\n",
       "    </tr>\n",
       "    <tr>\n",
       "      <th>12</th>\n",
       "      <td>54</td>\n",
       "      <td>2021-02-18T08:00:00+0000</td>\n",
       "    </tr>\n",
       "    <tr>\n",
       "      <th>13</th>\n",
       "      <td>44</td>\n",
       "      <td>2021-02-19T08:00:00+0000</td>\n",
       "    </tr>\n",
       "    <tr>\n",
       "      <th>14</th>\n",
       "      <td>53</td>\n",
       "      <td>2021-02-20T08:00:00+0000</td>\n",
       "    </tr>\n",
       "    <tr>\n",
       "      <th>15</th>\n",
       "      <td>53</td>\n",
       "      <td>2021-02-21T08:00:00+0000</td>\n",
       "    </tr>\n",
       "    <tr>\n",
       "      <th>16</th>\n",
       "      <td>53</td>\n",
       "      <td>2021-02-21T08:00:00+0000</td>\n",
       "    </tr>\n",
       "    <tr>\n",
       "      <th>17</th>\n",
       "      <td>56</td>\n",
       "      <td>2021-02-22T08:00:00+0000</td>\n",
       "    </tr>\n",
       "    <tr>\n",
       "      <th>18</th>\n",
       "      <td>349</td>\n",
       "      <td>2021-02-23T08:00:00+0000</td>\n",
       "    </tr>\n",
       "    <tr>\n",
       "      <th>19</th>\n",
       "      <td>86</td>\n",
       "      <td>2021-02-24T08:00:00+0000</td>\n",
       "    </tr>\n",
       "  </tbody>\n",
       "</table>\n",
       "</div>"
      ],
      "text/plain": [
       "    value                  end_time\n",
       "0    1438  2021-02-07T08:00:00+0000\n",
       "1    1195  2021-02-08T08:00:00+0000\n",
       "2     451  2021-02-09T08:00:00+0000\n",
       "3     108  2021-02-10T08:00:00+0000\n",
       "4     163  2021-02-11T08:00:00+0000\n",
       "5     915  2021-02-12T08:00:00+0000\n",
       "6     578  2021-02-13T08:00:00+0000\n",
       "7     170  2021-02-14T08:00:00+0000\n",
       "8     170  2021-02-14T08:00:00+0000\n",
       "9      97  2021-02-15T08:00:00+0000\n",
       "10    649  2021-02-16T08:00:00+0000\n",
       "11     84  2021-02-17T08:00:00+0000\n",
       "12     54  2021-02-18T08:00:00+0000\n",
       "13     44  2021-02-19T08:00:00+0000\n",
       "14     53  2021-02-20T08:00:00+0000\n",
       "15     53  2021-02-21T08:00:00+0000\n",
       "16     53  2021-02-21T08:00:00+0000\n",
       "17     56  2021-02-22T08:00:00+0000\n",
       "18    349  2021-02-23T08:00:00+0000\n",
       "19     86  2021-02-24T08:00:00+0000"
      ]
     },
     "execution_count": 156,
     "metadata": {},
     "output_type": "execute_result"
    }
   ],
   "source": [
    "df_impressions.head(20)"
   ]
  },
  {
   "cell_type": "code",
   "execution_count": 157,
   "id": "psychological-tomato",
   "metadata": {},
   "outputs": [],
   "source": [
    "array_df_reach=[]\n",
    "for index, row in df_dates.iterrows():\n",
    "    array_df_reach.append(fetch_data(row['start'],row['end'],metric[1],tokken))"
   ]
  },
  {
   "cell_type": "code",
   "execution_count": 158,
   "id": "alternate-handle",
   "metadata": {},
   "outputs": [
    {
     "data": {
      "text/plain": [
       "103"
      ]
     },
     "execution_count": 158,
     "metadata": {},
     "output_type": "execute_result"
    }
   ],
   "source": [
    "len(array_df_reach)"
   ]
  },
  {
   "cell_type": "code",
   "execution_count": 159,
   "id": "recorded-taylor",
   "metadata": {},
   "outputs": [],
   "source": [
    "df_reach=pd.concat(array_df_reach,ignore_index=True)"
   ]
  },
  {
   "cell_type": "code",
   "execution_count": 160,
   "id": "convinced-cement",
   "metadata": {},
   "outputs": [
    {
     "data": {
      "text/html": [
       "<div>\n",
       "<style scoped>\n",
       "    .dataframe tbody tr th:only-of-type {\n",
       "        vertical-align: middle;\n",
       "    }\n",
       "\n",
       "    .dataframe tbody tr th {\n",
       "        vertical-align: top;\n",
       "    }\n",
       "\n",
       "    .dataframe thead th {\n",
       "        text-align: right;\n",
       "    }\n",
       "</style>\n",
       "<table border=\"1\" class=\"dataframe\">\n",
       "  <thead>\n",
       "    <tr style=\"text-align: right;\">\n",
       "      <th></th>\n",
       "      <th>value</th>\n",
       "      <th>end_time</th>\n",
       "    </tr>\n",
       "  </thead>\n",
       "  <tbody>\n",
       "    <tr>\n",
       "      <th>0</th>\n",
       "      <td>1294</td>\n",
       "      <td>2021-02-07T08:00:00+0000</td>\n",
       "    </tr>\n",
       "    <tr>\n",
       "      <th>1</th>\n",
       "      <td>1078</td>\n",
       "      <td>2021-02-08T08:00:00+0000</td>\n",
       "    </tr>\n",
       "    <tr>\n",
       "      <th>2</th>\n",
       "      <td>348</td>\n",
       "      <td>2021-02-09T08:00:00+0000</td>\n",
       "    </tr>\n",
       "    <tr>\n",
       "      <th>3</th>\n",
       "      <td>99</td>\n",
       "      <td>2021-02-10T08:00:00+0000</td>\n",
       "    </tr>\n",
       "    <tr>\n",
       "      <th>4</th>\n",
       "      <td>31</td>\n",
       "      <td>2021-02-11T08:00:00+0000</td>\n",
       "    </tr>\n",
       "    <tr>\n",
       "      <th>5</th>\n",
       "      <td>837</td>\n",
       "      <td>2021-02-12T08:00:00+0000</td>\n",
       "    </tr>\n",
       "    <tr>\n",
       "      <th>6</th>\n",
       "      <td>480</td>\n",
       "      <td>2021-02-13T08:00:00+0000</td>\n",
       "    </tr>\n",
       "    <tr>\n",
       "      <th>7</th>\n",
       "      <td>136</td>\n",
       "      <td>2021-02-14T08:00:00+0000</td>\n",
       "    </tr>\n",
       "    <tr>\n",
       "      <th>8</th>\n",
       "      <td>136</td>\n",
       "      <td>2021-02-14T08:00:00+0000</td>\n",
       "    </tr>\n",
       "    <tr>\n",
       "      <th>9</th>\n",
       "      <td>52</td>\n",
       "      <td>2021-02-15T08:00:00+0000</td>\n",
       "    </tr>\n",
       "    <tr>\n",
       "      <th>10</th>\n",
       "      <td>431</td>\n",
       "      <td>2021-02-16T08:00:00+0000</td>\n",
       "    </tr>\n",
       "    <tr>\n",
       "      <th>11</th>\n",
       "      <td>65</td>\n",
       "      <td>2021-02-17T08:00:00+0000</td>\n",
       "    </tr>\n",
       "    <tr>\n",
       "      <th>12</th>\n",
       "      <td>27</td>\n",
       "      <td>2021-02-18T08:00:00+0000</td>\n",
       "    </tr>\n",
       "    <tr>\n",
       "      <th>13</th>\n",
       "      <td>26</td>\n",
       "      <td>2021-02-19T08:00:00+0000</td>\n",
       "    </tr>\n",
       "    <tr>\n",
       "      <th>14</th>\n",
       "      <td>22</td>\n",
       "      <td>2021-02-20T08:00:00+0000</td>\n",
       "    </tr>\n",
       "    <tr>\n",
       "      <th>15</th>\n",
       "      <td>27</td>\n",
       "      <td>2021-02-21T08:00:00+0000</td>\n",
       "    </tr>\n",
       "    <tr>\n",
       "      <th>16</th>\n",
       "      <td>27</td>\n",
       "      <td>2021-02-21T08:00:00+0000</td>\n",
       "    </tr>\n",
       "    <tr>\n",
       "      <th>17</th>\n",
       "      <td>26</td>\n",
       "      <td>2021-02-22T08:00:00+0000</td>\n",
       "    </tr>\n",
       "    <tr>\n",
       "      <th>18</th>\n",
       "      <td>36</td>\n",
       "      <td>2021-02-23T08:00:00+0000</td>\n",
       "    </tr>\n",
       "    <tr>\n",
       "      <th>19</th>\n",
       "      <td>40</td>\n",
       "      <td>2021-02-24T08:00:00+0000</td>\n",
       "    </tr>\n",
       "  </tbody>\n",
       "</table>\n",
       "</div>"
      ],
      "text/plain": [
       "    value                  end_time\n",
       "0    1294  2021-02-07T08:00:00+0000\n",
       "1    1078  2021-02-08T08:00:00+0000\n",
       "2     348  2021-02-09T08:00:00+0000\n",
       "3      99  2021-02-10T08:00:00+0000\n",
       "4      31  2021-02-11T08:00:00+0000\n",
       "5     837  2021-02-12T08:00:00+0000\n",
       "6     480  2021-02-13T08:00:00+0000\n",
       "7     136  2021-02-14T08:00:00+0000\n",
       "8     136  2021-02-14T08:00:00+0000\n",
       "9      52  2021-02-15T08:00:00+0000\n",
       "10    431  2021-02-16T08:00:00+0000\n",
       "11     65  2021-02-17T08:00:00+0000\n",
       "12     27  2021-02-18T08:00:00+0000\n",
       "13     26  2021-02-19T08:00:00+0000\n",
       "14     22  2021-02-20T08:00:00+0000\n",
       "15     27  2021-02-21T08:00:00+0000\n",
       "16     27  2021-02-21T08:00:00+0000\n",
       "17     26  2021-02-22T08:00:00+0000\n",
       "18     36  2021-02-23T08:00:00+0000\n",
       "19     40  2021-02-24T08:00:00+0000"
      ]
     },
     "execution_count": 160,
     "metadata": {},
     "output_type": "execute_result"
    }
   ],
   "source": [
    "df_reach.head(20)"
   ]
  },
  {
   "cell_type": "code",
   "execution_count": 161,
   "id": "private-strength",
   "metadata": {},
   "outputs": [],
   "source": [
    "df_final=pd.merge(df_impressions, df_reach.value, left_index=True, right_index=True)"
   ]
  },
  {
   "cell_type": "code",
   "execution_count": 162,
   "id": "varying-experiment",
   "metadata": {},
   "outputs": [],
   "source": [
    "df_final.rename(columns = {'value_x':'impressions','value_y':'reach','end_time':'date'}, inplace = True)"
   ]
  },
  {
   "cell_type": "code",
   "execution_count": 163,
   "id": "overall-programming",
   "metadata": {},
   "outputs": [],
   "source": [
    "date_modified=[]\n",
    "for date in df_final['date']:\n",
    "    date_modified.append(date[:-14])"
   ]
  },
  {
   "cell_type": "code",
   "execution_count": 164,
   "id": "regular-watch",
   "metadata": {},
   "outputs": [],
   "source": [
    "df_final['date']=date_modified"
   ]
  },
  {
   "cell_type": "code",
   "execution_count": 165,
   "id": "appropriate-strike",
   "metadata": {},
   "outputs": [
    {
     "data": {
      "text/html": [
       "<div>\n",
       "<style scoped>\n",
       "    .dataframe tbody tr th:only-of-type {\n",
       "        vertical-align: middle;\n",
       "    }\n",
       "\n",
       "    .dataframe tbody tr th {\n",
       "        vertical-align: top;\n",
       "    }\n",
       "\n",
       "    .dataframe thead th {\n",
       "        text-align: right;\n",
       "    }\n",
       "</style>\n",
       "<table border=\"1\" class=\"dataframe\">\n",
       "  <thead>\n",
       "    <tr style=\"text-align: right;\">\n",
       "      <th></th>\n",
       "      <th>impressions</th>\n",
       "      <th>date</th>\n",
       "      <th>reach</th>\n",
       "    </tr>\n",
       "  </thead>\n",
       "  <tbody>\n",
       "    <tr>\n",
       "      <th>0</th>\n",
       "      <td>1438</td>\n",
       "      <td>2021-02-07</td>\n",
       "      <td>1294</td>\n",
       "    </tr>\n",
       "    <tr>\n",
       "      <th>1</th>\n",
       "      <td>1195</td>\n",
       "      <td>2021-02-08</td>\n",
       "      <td>1078</td>\n",
       "    </tr>\n",
       "    <tr>\n",
       "      <th>2</th>\n",
       "      <td>451</td>\n",
       "      <td>2021-02-09</td>\n",
       "      <td>348</td>\n",
       "    </tr>\n",
       "    <tr>\n",
       "      <th>3</th>\n",
       "      <td>108</td>\n",
       "      <td>2021-02-10</td>\n",
       "      <td>99</td>\n",
       "    </tr>\n",
       "    <tr>\n",
       "      <th>4</th>\n",
       "      <td>163</td>\n",
       "      <td>2021-02-11</td>\n",
       "      <td>31</td>\n",
       "    </tr>\n",
       "  </tbody>\n",
       "</table>\n",
       "</div>"
      ],
      "text/plain": [
       "   impressions        date  reach\n",
       "0         1438  2021-02-07   1294\n",
       "1         1195  2021-02-08   1078\n",
       "2          451  2021-02-09    348\n",
       "3          108  2021-02-10     99\n",
       "4          163  2021-02-11     31"
      ]
     },
     "execution_count": 165,
     "metadata": {},
     "output_type": "execute_result"
    }
   ],
   "source": [
    "df_final.head()"
   ]
  },
  {
   "cell_type": "code",
   "execution_count": 190,
   "id": "strong-terror",
   "metadata": {},
   "outputs": [],
   "source": [
    "df_final.drop_duplicates(subset='date', keep=False, inplace=True)\n"
   ]
  },
  {
   "cell_type": "code",
   "execution_count": 186,
   "id": "looking-douglas",
   "metadata": {},
   "outputs": [
    {
     "data": {
      "text/plain": [
       "620"
      ]
     },
     "execution_count": 186,
     "metadata": {},
     "output_type": "execute_result"
    }
   ],
   "source": [
    "len(df_final)"
   ]
  },
  {
   "cell_type": "code",
   "execution_count": 193,
   "id": "alien-evening",
   "metadata": {},
   "outputs": [],
   "source": [
    "df_final.to_csv('impressions_reach_CJ_instagram_21-2-7_to_23-1-24_corected_version.csv')"
   ]
  },
  {
   "cell_type": "code",
   "execution_count": null,
   "id": "adjacent-wagner",
   "metadata": {},
   "outputs": [],
   "source": [
    "import matplotlib.pyplot as plt"
   ]
  },
  {
   "cell_type": "code",
   "execution_count": null,
   "id": "surprising-restaurant",
   "metadata": {},
   "outputs": [],
   "source": [
    "result.plot(x='end_time', y='value', kind='line')"
   ]
  },
  {
   "cell_type": "code",
   "execution_count": null,
   "id": "respected-discussion",
   "metadata": {},
   "outputs": [],
   "source": [
    "result.shape"
   ]
  },
  {
   "cell_type": "code",
   "execution_count": null,
   "id": "considerable-austria",
   "metadata": {},
   "outputs": [],
   "source": [
    "result.shape()"
   ]
  },
  {
   "cell_type": "code",
   "execution_count": null,
   "id": "functioning-continuity",
   "metadata": {},
   "outputs": [],
   "source": [
    "len(result.values)"
   ]
  },
  {
   "cell_type": "code",
   "execution_count": null,
   "id": "diverse-addition",
   "metadata": {},
   "outputs": [],
   "source": []
  }
 ],
 "metadata": {
  "kernelspec": {
   "display_name": "Python 3",
   "language": "python",
   "name": "python3"
  },
  "language_info": {
   "codemirror_mode": {
    "name": "ipython",
    "version": 3
   },
   "file_extension": ".py",
   "mimetype": "text/x-python",
   "name": "python",
   "nbconvert_exporter": "python",
   "pygments_lexer": "ipython3",
   "version": "3.6.12"
  }
 },
 "nbformat": 4,
 "nbformat_minor": 5
}
