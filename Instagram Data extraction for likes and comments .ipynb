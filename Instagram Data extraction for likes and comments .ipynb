{
 "cells": [
  {
   "cell_type": "code",
   "execution_count": 81,
   "id": "narrow-patrick",
   "metadata": {},
   "outputs": [],
   "source": [
    "from dateutil.rrule import rrule, DAILY\n",
    "from datetime import datetime\n",
    "import matplotlib.pyplot as plt\n",
    "import pandas as pd\n",
    "import requests"
   ]
  },
  {
   "cell_type": "code",
   "execution_count": 134,
   "id": "clean-cooperation",
   "metadata": {},
   "outputs": [],
   "source": [
    "metric = ['likes','comments']\n",
    "date_start= '2023-01-19'\n",
    "date_end ='2023-01-20'\n",
    "tokken = \"EAAmNvp7ZCK7kBAKFpcn9g94mtmcF8OenGu3A9LTY5VZAeTSHudPQriiV8ftsfffKLb3XsKO6kZCn2fvDRbbNtS8179X8O9a1coCjZABaAjitEF6dxyyxwBxbG6P8NiT4V4dxSX2vwciKOfpAqjYaFZBbseCdpTXbta4fI3IXJLwdAkpDnlZAwAZBwacrWMVfgAYhWD05ZBCr9QZDZD\"\n"
   ]
  },
  {
   "cell_type": "code",
   "execution_count": 126,
   "id": "pending-milan",
   "metadata": {},
   "outputs": [],
   "source": [
    "url=\"https://graph.facebook.com/v15.0/17841401901416928/insights?pretty=0&since=2023-01-19&until=2023-01-20&metric=comments&metric_type=total_value&period=day&access_token=EAAmNvp7ZCK7kBALIHCVVcrW05rTSAb9xWUZAVIZAalZCbI035gD8e6rEoOK6SLEM3Lnt3NRRxURWdgejrsMSXbUDyZBrNNNpqWqe7LypZCbzRtYZBhD0eaJTOCUTagkphXvOkwlVJipYVk84CxErZBXlfCcZB5QNwjtWhHRkkZCZBjDpjxoJHn8t2QBXxVH4J4HMZAohBJZCZAH1WP7gZDZD\""
   ]
  },
  {
   "cell_type": "code",
   "execution_count": 127,
   "id": "transparent-tender",
   "metadata": {},
   "outputs": [
    {
     "name": "stdout",
     "output_type": "stream",
     "text": [
      "https://graph.facebook.com/v15.0/17841401901416928/insights?pretty=0&since=2023-01-19&until=2023-01-20&metric=comments&metric_type=total_value&period=day&access_token=EAAmNvp7ZCK7kBALIHCVVcrW05rTSAb9xWUZAVIZAalZCbI035gD8e6rEoOK6SLEM3Lnt3NRRxURWdgejrsMSXbUDyZBrNNNpqWqe7LypZCbzRtYZBhD0eaJTOCUTagkphXvOkwlVJipYVk84CxErZBXlfCcZB5QNwjtWhHRkkZCZBjDpjxoJHn8t2QBXxVH4J4HMZAohBJZCZAH1WP7gZDZD\n"
     ]
    }
   ],
   "source": [
    "print(url)"
   ]
  },
  {
   "cell_type": "code",
   "execution_count": 128,
   "id": "reduced-brick",
   "metadata": {},
   "outputs": [],
   "source": [
    "r = requests.get(url)"
   ]
  },
  {
   "cell_type": "code",
   "execution_count": 129,
   "id": "pleased-underwear",
   "metadata": {},
   "outputs": [
    {
     "data": {
      "text/plain": [
       "<Response [200]>"
      ]
     },
     "execution_count": 129,
     "metadata": {},
     "output_type": "execute_result"
    }
   ],
   "source": [
    "r"
   ]
  },
  {
   "cell_type": "code",
   "execution_count": 130,
   "id": "instrumental-justice",
   "metadata": {},
   "outputs": [],
   "source": [
    "json=r.json()"
   ]
  },
  {
   "cell_type": "code",
   "execution_count": 131,
   "id": "functioning-billy",
   "metadata": {},
   "outputs": [
    {
     "data": {
      "text/plain": [
       "{'data': [{'name': 'comments',\n",
       "   'period': 'day',\n",
       "   'title': 'Commentaires',\n",
       "   'description': 'Le nombre de commentaires sur vos publications, reels, vidéos et vidéos en direct.',\n",
       "   'total_value': {'value': 0},\n",
       "   'id': '17841401901416928/insights/comments/day'}],\n",
       " 'paging': {'previous': 'https://graph.facebook.com/v15.0/17841401901416928/insights?access_token=EAAmNvp7ZCK7kBALIHCVVcrW05rTSAb9xWUZAVIZAalZCbI035gD8e6rEoOK6SLEM3Lnt3NRRxURWdgejrsMSXbUDyZBrNNNpqWqe7LypZCbzRtYZBhD0eaJTOCUTagkphXvOkwlVJipYVk84CxErZBXlfCcZB5QNwjtWhHRkkZCZBjDpjxoJHn8t2QBXxVH4J4HMZAohBJZCZAH1WP7gZDZD&pretty=0&since=1673999999&until=1674086399&metric=comments&metric_type=total_value&period=day',\n",
       "  'next': 'https://graph.facebook.com/v15.0/17841401901416928/insights?access_token=EAAmNvp7ZCK7kBALIHCVVcrW05rTSAb9xWUZAVIZAalZCbI035gD8e6rEoOK6SLEM3Lnt3NRRxURWdgejrsMSXbUDyZBrNNNpqWqe7LypZCbzRtYZBhD0eaJTOCUTagkphXvOkwlVJipYVk84CxErZBXlfCcZB5QNwjtWhHRkkZCZBjDpjxoJHn8t2QBXxVH4J4HMZAohBJZCZAH1WP7gZDZD&pretty=0&since=1674172801&until=1674259201&metric=comments&metric_type=total_value&period=day'}}"
      ]
     },
     "execution_count": 131,
     "metadata": {},
     "output_type": "execute_result"
    }
   ],
   "source": [
    "json"
   ]
  },
  {
   "cell_type": "code",
   "execution_count": 132,
   "id": "secret-fundamental",
   "metadata": {},
   "outputs": [
    {
     "data": {
      "text/plain": [
       "0"
      ]
     },
     "execution_count": 132,
     "metadata": {},
     "output_type": "execute_result"
    }
   ],
   "source": [
    "json['data'][0]['total_value']['value']"
   ]
  },
  {
   "cell_type": "code",
   "execution_count": 103,
   "id": "experienced-smoke",
   "metadata": {},
   "outputs": [],
   "source": [
    "start_date = datetime(2021, 1, 31)\n",
    "end_date = datetime.now()\n",
    "days_starting = list(rrule(DAILY, dtstart=start_date, until=end_date))"
   ]
  },
  {
   "cell_type": "code",
   "execution_count": 105,
   "id": "global-arthritis",
   "metadata": {},
   "outputs": [
    {
     "data": {
      "text/plain": [
       "datetime.datetime(2023, 1, 25, 0, 0)"
      ]
     },
     "execution_count": 105,
     "metadata": {},
     "output_type": "execute_result"
    }
   ],
   "source": [
    "days_starting.pop()"
   ]
  },
  {
   "cell_type": "code",
   "execution_count": 106,
   "id": "powered-chancellor",
   "metadata": {},
   "outputs": [
    {
     "name": "stdout",
     "output_type": "stream",
     "text": [
      "724 724\n"
     ]
    }
   ],
   "source": [
    "print(len(days_starting),len(days_ending))"
   ]
  },
  {
   "cell_type": "code",
   "execution_count": 88,
   "id": "worth-preservation",
   "metadata": {},
   "outputs": [],
   "source": [
    "start_date = datetime(2021, 2, 1)\n",
    "end_date = datetime.now()\n",
    "days_ending = list(rrule(DAILY, dtstart=start_date, until=end_date))"
   ]
  },
  {
   "cell_type": "code",
   "execution_count": 107,
   "id": "virgin-movie",
   "metadata": {},
   "outputs": [],
   "source": [
    "df_dates_day=pd.DataFrame({'start': days_starting,'end': days_ending})"
   ]
  },
  {
   "cell_type": "code",
   "execution_count": 109,
   "id": "closed-burns",
   "metadata": {},
   "outputs": [
    {
     "data": {
      "text/plain": [
       "Timestamp('2021-01-31 00:00:00')"
      ]
     },
     "execution_count": 109,
     "metadata": {},
     "output_type": "execute_result"
    }
   ],
   "source": [
    "df_dates_day.start[0]\n"
   ]
  },
  {
   "cell_type": "code",
   "execution_count": 112,
   "id": "traditional-apparatus",
   "metadata": {},
   "outputs": [],
   "source": [
    "def fetch_data_daily(start,end, metric,tokken):\n",
    "    url= f\"https://graph.facebook.com/v15.0/17841401901416928/insights?metric={metric}&period=day&pretty=0&since={start}&until={end}&metric_type=total_value&access_token={tokken}\"\n",
    "    r = requests.get(url)\n",
    "    json=r.json()\n",
    "    value = json['data'][0]['total_value']['value']\n",
    "    return value"
   ]
  },
  {
   "cell_type": "code",
   "execution_count": 135,
   "id": "downtown-tobacco",
   "metadata": {},
   "outputs": [
    {
     "data": {
      "text/plain": [
       "0"
      ]
     },
     "execution_count": 135,
     "metadata": {},
     "output_type": "execute_result"
    }
   ],
   "source": [
    "fetch_data_daily(date_start,date_end,metric[1],tokken)"
   ]
  },
  {
   "cell_type": "code",
   "execution_count": 117,
   "id": "desirable-matrix",
   "metadata": {},
   "outputs": [],
   "source": [
    "likes_arr=[]\n",
    "for index, row in df_dates_day.iterrows():\n",
    "    likes_arr.append(fetch_data_daily(row['start'],row['end'],metric[0],tokken)) \n",
    "    "
   ]
  },
  {
   "cell_type": "code",
   "execution_count": 118,
   "id": "diagnostic-notification",
   "metadata": {},
   "outputs": [
    {
     "data": {
      "text/plain": [
       "724"
      ]
     },
     "execution_count": 118,
     "metadata": {},
     "output_type": "execute_result"
    }
   ],
   "source": [
    "len(likes_arr)"
   ]
  },
  {
   "cell_type": "code",
   "execution_count": 119,
   "id": "devoted-prospect",
   "metadata": {},
   "outputs": [
    {
     "data": {
      "text/plain": [
       "11"
      ]
     },
     "execution_count": 119,
     "metadata": {},
     "output_type": "execute_result"
    }
   ],
   "source": [
    "likes_arr[650]"
   ]
  },
  {
   "cell_type": "code",
   "execution_count": 136,
   "id": "motivated-appearance",
   "metadata": {},
   "outputs": [],
   "source": [
    "comments_arr=[]\n",
    "for index, row in df_dates_day.iterrows():\n",
    "    comments_arr.append(fetch_data_daily(row['start'],row['end'],metric[1],tokken)) \n",
    "    "
   ]
  },
  {
   "cell_type": "code",
   "execution_count": 137,
   "id": "atmospheric-advocacy",
   "metadata": {},
   "outputs": [
    {
     "data": {
      "text/plain": [
       "724"
      ]
     },
     "execution_count": 137,
     "metadata": {},
     "output_type": "execute_result"
    }
   ],
   "source": [
    "len(comments_arr)"
   ]
  },
  {
   "cell_type": "code",
   "execution_count": 138,
   "id": "limited-mirror",
   "metadata": {},
   "outputs": [],
   "source": [
    "df_final=pd.read_csv('impressions_reach_CJ_instagram_21-1-31_to_23-1-24.csv')"
   ]
  },
  {
   "cell_type": "code",
   "execution_count": 139,
   "id": "naval-fraction",
   "metadata": {},
   "outputs": [
    {
     "data": {
      "text/html": [
       "<div>\n",
       "<style scoped>\n",
       "    .dataframe tbody tr th:only-of-type {\n",
       "        vertical-align: middle;\n",
       "    }\n",
       "\n",
       "    .dataframe tbody tr th {\n",
       "        vertical-align: top;\n",
       "    }\n",
       "\n",
       "    .dataframe thead th {\n",
       "        text-align: right;\n",
       "    }\n",
       "</style>\n",
       "<table border=\"1\" class=\"dataframe\">\n",
       "  <thead>\n",
       "    <tr style=\"text-align: right;\">\n",
       "      <th></th>\n",
       "      <th>Unnamed: 0</th>\n",
       "      <th>impressions</th>\n",
       "      <th>date</th>\n",
       "      <th>reach</th>\n",
       "    </tr>\n",
       "  </thead>\n",
       "  <tbody>\n",
       "    <tr>\n",
       "      <th>0</th>\n",
       "      <td>0</td>\n",
       "      <td>9308</td>\n",
       "      <td>2021-01-31</td>\n",
       "      <td>6448</td>\n",
       "    </tr>\n",
       "    <tr>\n",
       "      <th>1</th>\n",
       "      <td>1</td>\n",
       "      <td>8218</td>\n",
       "      <td>2021-02-01</td>\n",
       "      <td>6113</td>\n",
       "    </tr>\n",
       "    <tr>\n",
       "      <th>2</th>\n",
       "      <td>2</td>\n",
       "      <td>7979</td>\n",
       "      <td>2021-02-02</td>\n",
       "      <td>6071</td>\n",
       "    </tr>\n",
       "    <tr>\n",
       "      <th>3</th>\n",
       "      <td>3</td>\n",
       "      <td>5644</td>\n",
       "      <td>2021-02-03</td>\n",
       "      <td>4569</td>\n",
       "    </tr>\n",
       "    <tr>\n",
       "      <th>4</th>\n",
       "      <td>4</td>\n",
       "      <td>2066</td>\n",
       "      <td>2021-02-04</td>\n",
       "      <td>1554</td>\n",
       "    </tr>\n",
       "  </tbody>\n",
       "</table>\n",
       "</div>"
      ],
      "text/plain": [
       "   Unnamed: 0  impressions        date  reach\n",
       "0           0         9308  2021-01-31   6448\n",
       "1           1         8218  2021-02-01   6113\n",
       "2           2         7979  2021-02-02   6071\n",
       "3           3         5644  2021-02-03   4569\n",
       "4           4         2066  2021-02-04   1554"
      ]
     },
     "execution_count": 139,
     "metadata": {},
     "output_type": "execute_result"
    }
   ],
   "source": [
    "df_final.head()"
   ]
  },
  {
   "cell_type": "code",
   "execution_count": 163,
   "id": "scheduled-delaware",
   "metadata": {},
   "outputs": [],
   "source": [
    "likes_arr=likes_arr[:-2]"
   ]
  },
  {
   "cell_type": "code",
   "execution_count": 164,
   "id": "nervous-supervision",
   "metadata": {},
   "outputs": [
    {
     "data": {
      "text/plain": [
       "721"
      ]
     },
     "execution_count": 164,
     "metadata": {},
     "output_type": "execute_result"
    }
   ],
   "source": [
    "len(likes_arr)"
   ]
  },
  {
   "cell_type": "code",
   "execution_count": 141,
   "id": "radio-dancing",
   "metadata": {},
   "outputs": [
    {
     "data": {
      "text/plain": [
       "723"
      ]
     },
     "execution_count": 141,
     "metadata": {},
     "output_type": "execute_result"
    }
   ],
   "source": [
    "len(comments_arr)"
   ]
  },
  {
   "cell_type": "code",
   "execution_count": 165,
   "id": "binding-pickup",
   "metadata": {},
   "outputs": [],
   "source": [
    "df_final['comments']=comments_arr"
   ]
  },
  {
   "cell_type": "code",
   "execution_count": 166,
   "id": "comparative-donna",
   "metadata": {},
   "outputs": [],
   "source": [
    "df_final['likes']= likes_arr"
   ]
  },
  {
   "cell_type": "code",
   "execution_count": 167,
   "id": "single-token",
   "metadata": {},
   "outputs": [
    {
     "data": {
      "text/plain": [
       "2577"
      ]
     },
     "execution_count": 167,
     "metadata": {},
     "output_type": "execute_result"
    }
   ],
   "source": [
    "df_final.likes.sum()"
   ]
  },
  {
   "cell_type": "code",
   "execution_count": 178,
   "id": "enabling-tamil",
   "metadata": {},
   "outputs": [],
   "source": [
    "df_final.to_csv('CJ_Instagram_metrics_(impressions,reach,likes,comments)_2021-1_to_2023-1.csv')"
   ]
  },
  {
   "cell_type": "code",
   "execution_count": 174,
   "id": "colonial-today",
   "metadata": {},
   "outputs": [],
   "source": [
    "df_final.drop('Unnamed: 0',inplace=True, axis=1)"
   ]
  },
  {
   "cell_type": "code",
   "execution_count": 176,
   "id": "economic-brown",
   "metadata": {},
   "outputs": [
    {
     "data": {
      "text/html": [
       "<div>\n",
       "<style scoped>\n",
       "    .dataframe tbody tr th:only-of-type {\n",
       "        vertical-align: middle;\n",
       "    }\n",
       "\n",
       "    .dataframe tbody tr th {\n",
       "        vertical-align: top;\n",
       "    }\n",
       "\n",
       "    .dataframe thead th {\n",
       "        text-align: right;\n",
       "    }\n",
       "</style>\n",
       "<table border=\"1\" class=\"dataframe\">\n",
       "  <thead>\n",
       "    <tr style=\"text-align: right;\">\n",
       "      <th></th>\n",
       "      <th>impressions</th>\n",
       "      <th>date</th>\n",
       "      <th>reach</th>\n",
       "      <th>comments</th>\n",
       "      <th>likes</th>\n",
       "    </tr>\n",
       "  </thead>\n",
       "  <tbody>\n",
       "    <tr>\n",
       "      <th>0</th>\n",
       "      <td>9308</td>\n",
       "      <td>2021-01-31</td>\n",
       "      <td>6448</td>\n",
       "      <td>0</td>\n",
       "      <td>0</td>\n",
       "    </tr>\n",
       "    <tr>\n",
       "      <th>1</th>\n",
       "      <td>8218</td>\n",
       "      <td>2021-02-01</td>\n",
       "      <td>6113</td>\n",
       "      <td>0</td>\n",
       "      <td>0</td>\n",
       "    </tr>\n",
       "    <tr>\n",
       "      <th>2</th>\n",
       "      <td>7979</td>\n",
       "      <td>2021-02-02</td>\n",
       "      <td>6071</td>\n",
       "      <td>0</td>\n",
       "      <td>0</td>\n",
       "    </tr>\n",
       "    <tr>\n",
       "      <th>3</th>\n",
       "      <td>5644</td>\n",
       "      <td>2021-02-03</td>\n",
       "      <td>4569</td>\n",
       "      <td>0</td>\n",
       "      <td>0</td>\n",
       "    </tr>\n",
       "    <tr>\n",
       "      <th>4</th>\n",
       "      <td>2066</td>\n",
       "      <td>2021-02-04</td>\n",
       "      <td>1554</td>\n",
       "      <td>0</td>\n",
       "      <td>0</td>\n",
       "    </tr>\n",
       "    <tr>\n",
       "      <th>5</th>\n",
       "      <td>1718</td>\n",
       "      <td>2021-02-05</td>\n",
       "      <td>1339</td>\n",
       "      <td>0</td>\n",
       "      <td>0</td>\n",
       "    </tr>\n",
       "    <tr>\n",
       "      <th>6</th>\n",
       "      <td>1696</td>\n",
       "      <td>2021-02-06</td>\n",
       "      <td>1318</td>\n",
       "      <td>0</td>\n",
       "      <td>0</td>\n",
       "    </tr>\n",
       "    <tr>\n",
       "      <th>7</th>\n",
       "      <td>3072</td>\n",
       "      <td>2021-02-07</td>\n",
       "      <td>2152</td>\n",
       "      <td>0</td>\n",
       "      <td>0</td>\n",
       "    </tr>\n",
       "    <tr>\n",
       "      <th>8</th>\n",
       "      <td>3832</td>\n",
       "      <td>2021-02-08</td>\n",
       "      <td>2431</td>\n",
       "      <td>0</td>\n",
       "      <td>0</td>\n",
       "    </tr>\n",
       "    <tr>\n",
       "      <th>9</th>\n",
       "      <td>3512</td>\n",
       "      <td>2021-02-09</td>\n",
       "      <td>2291</td>\n",
       "      <td>0</td>\n",
       "      <td>0</td>\n",
       "    </tr>\n",
       "    <tr>\n",
       "      <th>10</th>\n",
       "      <td>3383</td>\n",
       "      <td>2021-02-10</td>\n",
       "      <td>2316</td>\n",
       "      <td>0</td>\n",
       "      <td>0</td>\n",
       "    </tr>\n",
       "    <tr>\n",
       "      <th>11</th>\n",
       "      <td>3469</td>\n",
       "      <td>2021-02-11</td>\n",
       "      <td>2310</td>\n",
       "      <td>0</td>\n",
       "      <td>0</td>\n",
       "    </tr>\n",
       "    <tr>\n",
       "      <th>12</th>\n",
       "      <td>4357</td>\n",
       "      <td>2021-02-12</td>\n",
       "      <td>2656</td>\n",
       "      <td>0</td>\n",
       "      <td>0</td>\n",
       "    </tr>\n",
       "    <tr>\n",
       "      <th>13</th>\n",
       "      <td>4848</td>\n",
       "      <td>2021-02-13</td>\n",
       "      <td>2859</td>\n",
       "      <td>0</td>\n",
       "      <td>0</td>\n",
       "    </tr>\n",
       "    <tr>\n",
       "      <th>14</th>\n",
       "      <td>3580</td>\n",
       "      <td>2021-02-14</td>\n",
       "      <td>2338</td>\n",
       "      <td>0</td>\n",
       "      <td>0</td>\n",
       "    </tr>\n",
       "    <tr>\n",
       "      <th>15</th>\n",
       "      <td>2482</td>\n",
       "      <td>2021-02-15</td>\n",
       "      <td>1794</td>\n",
       "      <td>0</td>\n",
       "      <td>0</td>\n",
       "    </tr>\n",
       "    <tr>\n",
       "      <th>16</th>\n",
       "      <td>2680</td>\n",
       "      <td>2021-02-16</td>\n",
       "      <td>1840</td>\n",
       "      <td>0</td>\n",
       "      <td>0</td>\n",
       "    </tr>\n",
       "    <tr>\n",
       "      <th>17</th>\n",
       "      <td>2656</td>\n",
       "      <td>2021-02-17</td>\n",
       "      <td>1840</td>\n",
       "      <td>0</td>\n",
       "      <td>0</td>\n",
       "    </tr>\n",
       "    <tr>\n",
       "      <th>18</th>\n",
       "      <td>2547</td>\n",
       "      <td>2021-02-18</td>\n",
       "      <td>1837</td>\n",
       "      <td>0</td>\n",
       "      <td>0</td>\n",
       "    </tr>\n",
       "    <tr>\n",
       "      <th>19</th>\n",
       "      <td>1676</td>\n",
       "      <td>2021-02-19</td>\n",
       "      <td>1124</td>\n",
       "      <td>0</td>\n",
       "      <td>0</td>\n",
       "    </tr>\n",
       "    <tr>\n",
       "      <th>20</th>\n",
       "      <td>1151</td>\n",
       "      <td>2021-02-20</td>\n",
       "      <td>736</td>\n",
       "      <td>0</td>\n",
       "      <td>0</td>\n",
       "    </tr>\n",
       "    <tr>\n",
       "      <th>21</th>\n",
       "      <td>1034</td>\n",
       "      <td>2021-02-21</td>\n",
       "      <td>639</td>\n",
       "      <td>0</td>\n",
       "      <td>0</td>\n",
       "    </tr>\n",
       "    <tr>\n",
       "      <th>22</th>\n",
       "      <td>993</td>\n",
       "      <td>2021-02-22</td>\n",
       "      <td>613</td>\n",
       "      <td>0</td>\n",
       "      <td>0</td>\n",
       "    </tr>\n",
       "    <tr>\n",
       "      <th>23</th>\n",
       "      <td>693</td>\n",
       "      <td>2021-02-23</td>\n",
       "      <td>223</td>\n",
       "      <td>0</td>\n",
       "      <td>0</td>\n",
       "    </tr>\n",
       "    <tr>\n",
       "      <th>24</th>\n",
       "      <td>695</td>\n",
       "      <td>2021-02-24</td>\n",
       "      <td>199</td>\n",
       "      <td>0</td>\n",
       "      <td>0</td>\n",
       "    </tr>\n",
       "    <tr>\n",
       "      <th>25</th>\n",
       "      <td>680</td>\n",
       "      <td>2021-02-25</td>\n",
       "      <td>194</td>\n",
       "      <td>0</td>\n",
       "      <td>0</td>\n",
       "    </tr>\n",
       "    <tr>\n",
       "      <th>26</th>\n",
       "      <td>1839</td>\n",
       "      <td>2021-02-26</td>\n",
       "      <td>1314</td>\n",
       "      <td>0</td>\n",
       "      <td>0</td>\n",
       "    </tr>\n",
       "    <tr>\n",
       "      <th>27</th>\n",
       "      <td>2023</td>\n",
       "      <td>2021-02-27</td>\n",
       "      <td>1448</td>\n",
       "      <td>0</td>\n",
       "      <td>0</td>\n",
       "    </tr>\n",
       "    <tr>\n",
       "      <th>28</th>\n",
       "      <td>2076</td>\n",
       "      <td>2021-02-28</td>\n",
       "      <td>1480</td>\n",
       "      <td>0</td>\n",
       "      <td>0</td>\n",
       "    </tr>\n",
       "    <tr>\n",
       "      <th>29</th>\n",
       "      <td>2067</td>\n",
       "      <td>2021-03-01</td>\n",
       "      <td>1474</td>\n",
       "      <td>0</td>\n",
       "      <td>0</td>\n",
       "    </tr>\n",
       "    <tr>\n",
       "      <th>30</th>\n",
       "      <td>1747</td>\n",
       "      <td>2021-03-02</td>\n",
       "      <td>1458</td>\n",
       "      <td>0</td>\n",
       "      <td>0</td>\n",
       "    </tr>\n",
       "    <tr>\n",
       "      <th>31</th>\n",
       "      <td>1704</td>\n",
       "      <td>2021-03-03</td>\n",
       "      <td>1452</td>\n",
       "      <td>0</td>\n",
       "      <td>0</td>\n",
       "    </tr>\n",
       "    <tr>\n",
       "      <th>32</th>\n",
       "      <td>1763</td>\n",
       "      <td>2021-03-04</td>\n",
       "      <td>1456</td>\n",
       "      <td>0</td>\n",
       "      <td>0</td>\n",
       "    </tr>\n",
       "    <tr>\n",
       "      <th>33</th>\n",
       "      <td>595</td>\n",
       "      <td>2021-03-05</td>\n",
       "      <td>362</td>\n",
       "      <td>0</td>\n",
       "      <td>0</td>\n",
       "    </tr>\n",
       "    <tr>\n",
       "      <th>34</th>\n",
       "      <td>667</td>\n",
       "      <td>2021-03-06</td>\n",
       "      <td>202</td>\n",
       "      <td>0</td>\n",
       "      <td>0</td>\n",
       "    </tr>\n",
       "    <tr>\n",
       "      <th>35</th>\n",
       "      <td>624</td>\n",
       "      <td>2021-03-07</td>\n",
       "      <td>170</td>\n",
       "      <td>0</td>\n",
       "      <td>0</td>\n",
       "    </tr>\n",
       "    <tr>\n",
       "      <th>36</th>\n",
       "      <td>1640</td>\n",
       "      <td>2021-03-08</td>\n",
       "      <td>1133</td>\n",
       "      <td>0</td>\n",
       "      <td>0</td>\n",
       "    </tr>\n",
       "    <tr>\n",
       "      <th>37</th>\n",
       "      <td>1958</td>\n",
       "      <td>2021-03-09</td>\n",
       "      <td>1374</td>\n",
       "      <td>0</td>\n",
       "      <td>0</td>\n",
       "    </tr>\n",
       "    <tr>\n",
       "      <th>38</th>\n",
       "      <td>2861</td>\n",
       "      <td>2021-03-10</td>\n",
       "      <td>1700</td>\n",
       "      <td>0</td>\n",
       "      <td>0</td>\n",
       "    </tr>\n",
       "    <tr>\n",
       "      <th>39</th>\n",
       "      <td>3064</td>\n",
       "      <td>2021-03-11</td>\n",
       "      <td>1770</td>\n",
       "      <td>0</td>\n",
       "      <td>0</td>\n",
       "    </tr>\n",
       "    <tr>\n",
       "      <th>40</th>\n",
       "      <td>3671</td>\n",
       "      <td>2021-03-12</td>\n",
       "      <td>2011</td>\n",
       "      <td>0</td>\n",
       "      <td>0</td>\n",
       "    </tr>\n",
       "    <tr>\n",
       "      <th>41</th>\n",
       "      <td>3586</td>\n",
       "      <td>2021-03-13</td>\n",
       "      <td>2088</td>\n",
       "      <td>0</td>\n",
       "      <td>0</td>\n",
       "    </tr>\n",
       "    <tr>\n",
       "      <th>42</th>\n",
       "      <td>3620</td>\n",
       "      <td>2021-03-14</td>\n",
       "      <td>2113</td>\n",
       "      <td>0</td>\n",
       "      <td>0</td>\n",
       "    </tr>\n",
       "    <tr>\n",
       "      <th>43</th>\n",
       "      <td>3811</td>\n",
       "      <td>2021-03-15</td>\n",
       "      <td>2210</td>\n",
       "      <td>0</td>\n",
       "      <td>0</td>\n",
       "    </tr>\n",
       "    <tr>\n",
       "      <th>44</th>\n",
       "      <td>3706</td>\n",
       "      <td>2021-03-16</td>\n",
       "      <td>2178</td>\n",
       "      <td>0</td>\n",
       "      <td>0</td>\n",
       "    </tr>\n",
       "    <tr>\n",
       "      <th>45</th>\n",
       "      <td>2934</td>\n",
       "      <td>2021-03-17</td>\n",
       "      <td>1830</td>\n",
       "      <td>0</td>\n",
       "      <td>0</td>\n",
       "    </tr>\n",
       "    <tr>\n",
       "      <th>46</th>\n",
       "      <td>2678</td>\n",
       "      <td>2021-03-18</td>\n",
       "      <td>1753</td>\n",
       "      <td>0</td>\n",
       "      <td>0</td>\n",
       "    </tr>\n",
       "    <tr>\n",
       "      <th>47</th>\n",
       "      <td>2180</td>\n",
       "      <td>2021-03-19</td>\n",
       "      <td>1491</td>\n",
       "      <td>0</td>\n",
       "      <td>0</td>\n",
       "    </tr>\n",
       "    <tr>\n",
       "      <th>48</th>\n",
       "      <td>2063</td>\n",
       "      <td>2021-03-20</td>\n",
       "      <td>1428</td>\n",
       "      <td>0</td>\n",
       "      <td>0</td>\n",
       "    </tr>\n",
       "    <tr>\n",
       "      <th>49</th>\n",
       "      <td>2001</td>\n",
       "      <td>2021-03-21</td>\n",
       "      <td>1400</td>\n",
       "      <td>0</td>\n",
       "      <td>0</td>\n",
       "    </tr>\n",
       "  </tbody>\n",
       "</table>\n",
       "</div>"
      ],
      "text/plain": [
       "    impressions        date  reach  comments  likes\n",
       "0          9308  2021-01-31   6448         0      0\n",
       "1          8218  2021-02-01   6113         0      0\n",
       "2          7979  2021-02-02   6071         0      0\n",
       "3          5644  2021-02-03   4569         0      0\n",
       "4          2066  2021-02-04   1554         0      0\n",
       "5          1718  2021-02-05   1339         0      0\n",
       "6          1696  2021-02-06   1318         0      0\n",
       "7          3072  2021-02-07   2152         0      0\n",
       "8          3832  2021-02-08   2431         0      0\n",
       "9          3512  2021-02-09   2291         0      0\n",
       "10         3383  2021-02-10   2316         0      0\n",
       "11         3469  2021-02-11   2310         0      0\n",
       "12         4357  2021-02-12   2656         0      0\n",
       "13         4848  2021-02-13   2859         0      0\n",
       "14         3580  2021-02-14   2338         0      0\n",
       "15         2482  2021-02-15   1794         0      0\n",
       "16         2680  2021-02-16   1840         0      0\n",
       "17         2656  2021-02-17   1840         0      0\n",
       "18         2547  2021-02-18   1837         0      0\n",
       "19         1676  2021-02-19   1124         0      0\n",
       "20         1151  2021-02-20    736         0      0\n",
       "21         1034  2021-02-21    639         0      0\n",
       "22          993  2021-02-22    613         0      0\n",
       "23          693  2021-02-23    223         0      0\n",
       "24          695  2021-02-24    199         0      0\n",
       "25          680  2021-02-25    194         0      0\n",
       "26         1839  2021-02-26   1314         0      0\n",
       "27         2023  2021-02-27   1448         0      0\n",
       "28         2076  2021-02-28   1480         0      0\n",
       "29         2067  2021-03-01   1474         0      0\n",
       "30         1747  2021-03-02   1458         0      0\n",
       "31         1704  2021-03-03   1452         0      0\n",
       "32         1763  2021-03-04   1456         0      0\n",
       "33          595  2021-03-05    362         0      0\n",
       "34          667  2021-03-06    202         0      0\n",
       "35          624  2021-03-07    170         0      0\n",
       "36         1640  2021-03-08   1133         0      0\n",
       "37         1958  2021-03-09   1374         0      0\n",
       "38         2861  2021-03-10   1700         0      0\n",
       "39         3064  2021-03-11   1770         0      0\n",
       "40         3671  2021-03-12   2011         0      0\n",
       "41         3586  2021-03-13   2088         0      0\n",
       "42         3620  2021-03-14   2113         0      0\n",
       "43         3811  2021-03-15   2210         0      0\n",
       "44         3706  2021-03-16   2178         0      0\n",
       "45         2934  2021-03-17   1830         0      0\n",
       "46         2678  2021-03-18   1753         0      0\n",
       "47         2180  2021-03-19   1491         0      0\n",
       "48         2063  2021-03-20   1428         0      0\n",
       "49         2001  2021-03-21   1400         0      0"
      ]
     },
     "execution_count": 176,
     "metadata": {},
     "output_type": "execute_result"
    }
   ],
   "source": [
    "df_final.head(50)"
   ]
  },
  {
   "cell_type": "code",
   "execution_count": 177,
   "id": "integral-minute",
   "metadata": {},
   "outputs": [
    {
     "data": {
      "text/html": [
       "<div>\n",
       "<style scoped>\n",
       "    .dataframe tbody tr th:only-of-type {\n",
       "        vertical-align: middle;\n",
       "    }\n",
       "\n",
       "    .dataframe tbody tr th {\n",
       "        vertical-align: top;\n",
       "    }\n",
       "\n",
       "    .dataframe thead th {\n",
       "        text-align: right;\n",
       "    }\n",
       "</style>\n",
       "<table border=\"1\" class=\"dataframe\">\n",
       "  <thead>\n",
       "    <tr style=\"text-align: right;\">\n",
       "      <th></th>\n",
       "      <th>impressions</th>\n",
       "      <th>reach</th>\n",
       "      <th>comments</th>\n",
       "      <th>likes</th>\n",
       "    </tr>\n",
       "  </thead>\n",
       "  <tbody>\n",
       "    <tr>\n",
       "      <th>count</th>\n",
       "      <td>721.000000</td>\n",
       "      <td>721.000000</td>\n",
       "      <td>721.000000</td>\n",
       "      <td>721.000000</td>\n",
       "    </tr>\n",
       "    <tr>\n",
       "      <th>mean</th>\n",
       "      <td>2126.285714</td>\n",
       "      <td>1319.141470</td>\n",
       "      <td>0.051318</td>\n",
       "      <td>3.574202</td>\n",
       "    </tr>\n",
       "    <tr>\n",
       "      <th>std</th>\n",
       "      <td>2337.741338</td>\n",
       "      <td>1653.894751</td>\n",
       "      <td>0.389268</td>\n",
       "      <td>49.720584</td>\n",
       "    </tr>\n",
       "    <tr>\n",
       "      <th>min</th>\n",
       "      <td>221.000000</td>\n",
       "      <td>103.000000</td>\n",
       "      <td>0.000000</td>\n",
       "      <td>0.000000</td>\n",
       "    </tr>\n",
       "    <tr>\n",
       "      <th>25%</th>\n",
       "      <td>924.000000</td>\n",
       "      <td>565.000000</td>\n",
       "      <td>0.000000</td>\n",
       "      <td>0.000000</td>\n",
       "    </tr>\n",
       "    <tr>\n",
       "      <th>50%</th>\n",
       "      <td>1576.000000</td>\n",
       "      <td>1001.000000</td>\n",
       "      <td>0.000000</td>\n",
       "      <td>0.000000</td>\n",
       "    </tr>\n",
       "    <tr>\n",
       "      <th>75%</th>\n",
       "      <td>2547.000000</td>\n",
       "      <td>1547.000000</td>\n",
       "      <td>0.000000</td>\n",
       "      <td>0.000000</td>\n",
       "    </tr>\n",
       "    <tr>\n",
       "      <th>max</th>\n",
       "      <td>22733.000000</td>\n",
       "      <td>16585.000000</td>\n",
       "      <td>7.000000</td>\n",
       "      <td>1286.000000</td>\n",
       "    </tr>\n",
       "  </tbody>\n",
       "</table>\n",
       "</div>"
      ],
      "text/plain": [
       "        impressions         reach    comments        likes\n",
       "count    721.000000    721.000000  721.000000   721.000000\n",
       "mean    2126.285714   1319.141470    0.051318     3.574202\n",
       "std     2337.741338   1653.894751    0.389268    49.720584\n",
       "min      221.000000    103.000000    0.000000     0.000000\n",
       "25%      924.000000    565.000000    0.000000     0.000000\n",
       "50%     1576.000000   1001.000000    0.000000     0.000000\n",
       "75%     2547.000000   1547.000000    0.000000     0.000000\n",
       "max    22733.000000  16585.000000    7.000000  1286.000000"
      ]
     },
     "execution_count": 177,
     "metadata": {},
     "output_type": "execute_result"
    }
   ],
   "source": [
    "df_final.describe()"
   ]
  },
  {
   "cell_type": "code",
   "execution_count": 179,
   "id": "different-length",
   "metadata": {},
   "outputs": [],
   "source": [
    "df_final.to_excel('CJ_Instagram_metrics_(impressionsreach,likes,comments)_2021-1_to_2023-1.xlsx')"
   ]
  },
  {
   "cell_type": "code",
   "execution_count": null,
   "id": "statistical-ottawa",
   "metadata": {},
   "outputs": [],
   "source": []
  }
 ],
 "metadata": {
  "kernelspec": {
   "display_name": "Python 3",
   "language": "python",
   "name": "python3"
  },
  "language_info": {
   "codemirror_mode": {
    "name": "ipython",
    "version": 3
   },
   "file_extension": ".py",
   "mimetype": "text/x-python",
   "name": "python",
   "nbconvert_exporter": "python",
   "pygments_lexer": "ipython3",
   "version": "3.6.12"
  }
 },
 "nbformat": 4,
 "nbformat_minor": 5
}
