{
 "cells": [
  {
   "cell_type": "code",
   "execution_count": 1,
   "id": "driven-duncan",
   "metadata": {},
   "outputs": [],
   "source": [
    "from dateutil.rrule import rrule, DAILY\n",
    "from datetime import datetime\n",
    "import matplotlib.pyplot as plt\n",
    "import pandas as pd\n",
    "import requests\n",
    "import numpy as np\n"
   ]
  },
  {
   "cell_type": "code",
   "execution_count": 3,
   "id": "higher-worst",
   "metadata": {},
   "outputs": [],
   "source": [
    "url=\"https://graph.facebook.com/v15.0/17841401901416928/insights?metric=follower_count&period=day&since=01%2F13%2F2023&until=02%2F10%2F2023&access_token=EAAmNvp7ZCK7kBANWv0E1KhoIqf5MUOU52bpJWjZBt4XwIWci82HGNl8RoQdgqg6ZAXw2SkUdZAw9iD9RRLRQoOezNZAt2ORmXqvsoj6p4ze773rx7hySiZBnG9pO0fBVfiqzdGfEqZB9l5yDF7m1I9TE9VhBvGExbMeE2NmvnjXFTExb5FpM2uy6CZBtanHfIY0ZD\""
   ]
  },
  {
   "cell_type": "code",
   "execution_count": 5,
   "id": "emotional-joyce",
   "metadata": {},
   "outputs": [],
   "source": [
    "r = requests.get(url)"
   ]
  },
  {
   "cell_type": "code",
   "execution_count": 7,
   "id": "centered-effect",
   "metadata": {},
   "outputs": [],
   "source": [
    "json=r.json()"
   ]
  },
  {
   "cell_type": "code",
   "execution_count": 10,
   "id": "responsible-experiment",
   "metadata": {},
   "outputs": [],
   "source": [
    "df_followers=pd.DataFrame(json['data'][0]['values'])"
   ]
  },
  {
   "cell_type": "code",
   "execution_count": 13,
   "id": "continued-manhattan",
   "metadata": {},
   "outputs": [],
   "source": [
    "df_followers.to_csv('CJ_instagram_metric_followers_jan-13_to_feb-09_2023.csv')\n"
   ]
  },
  {
   "cell_type": "code",
   "execution_count": null,
   "id": "finite-somalia",
   "metadata": {},
   "outputs": [],
   "source": []
  }
 ],
 "metadata": {
  "kernelspec": {
   "display_name": "Python 3",
   "language": "python",
   "name": "python3"
  },
  "language_info": {
   "codemirror_mode": {
    "name": "ipython",
    "version": 3
   },
   "file_extension": ".py",
   "mimetype": "text/x-python",
   "name": "python",
   "nbconvert_exporter": "python",
   "pygments_lexer": "ipython3",
   "version": "3.6.12"
  }
 },
 "nbformat": 4,
 "nbformat_minor": 5
}
