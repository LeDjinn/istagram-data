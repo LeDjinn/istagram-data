{
 "cells": [
  {
   "cell_type": "code",
   "execution_count": 46,
   "id": "comparable-rough",
   "metadata": {},
   "outputs": [],
   "source": [
    "import pandas as pd\n",
    "import requests \n",
    "import numpy as np\n",
    "import matplotlib.pyplot as plt\n",
    "from datetime import datetime\n",
    "from dateutil.rrule import rrule, DAILY"
   ]
  },
  {
   "cell_type": "code",
   "execution_count": 39,
   "id": "alive-summer",
   "metadata": {},
   "outputs": [],
   "source": [
    "def check_metric(metric='', breakdown='',metric_type=''):\n",
    "    token ='EAAmNvp7ZCK7kBANfZCZBaR1m3McKs86GCMZB7G6ZAN8eIOcowCtvoWy1AuWvT0qTkNCsIvZAjeizJnh9gqJUREHZBYtQuBdv6dAvAFr1nBXRTtlNZAjbhNbjuuPMZCnVVOnlZCVqjcYpWcZA5Xkcifr4YcZCa7QTYeSrn4gMSLEyhGyJF9qt9EVUgTDRdT7NgWLgNy0ZD'\n",
    "    url=f\"https://graph.facebook.com/v15.0/17841401901416928/insights?limit=1000&until=02%2F06%2F2023&since=01%2F13%2F2023&period=day&metric={metric}&metric_type={metric_type}&breakdown={breakdown}&access_token={token}\"\n",
    "    r = requests.get(url)\n",
    "    return metric, r\n",
    "    "
   ]
  },
  {
   "cell_type": "code",
   "execution_count": 37,
   "id": "operating-attribute",
   "metadata": {},
   "outputs": [
    {
     "name": "stdout",
     "output_type": "stream",
     "text": [
      "reach <Response [200]>\n"
     ]
    }
   ],
   "source": [
    "check_metric('reach')"
   ]
  },
  {
   "cell_type": "code",
   "execution_count": 23,
   "id": "growing-adolescent",
   "metadata": {},
   "outputs": [
    {
     "data": {
      "text/plain": [
       "['follower_count',\n",
       " 'impressions',\n",
       " 'phone_call_clicks',\n",
       " 'profile_views',\n",
       " 'reach',\n",
       " 'text_message_clicks',\n",
       " 'website_clicks']"
      ]
     },
     "execution_count": 23,
     "metadata": {},
     "output_type": "execute_result"
    }
   ],
   "source": [
    "array_metric_simple=['follower_count','impressions','phone_call_clicks','profile_views','reach','text_message_clicks','website_clicks']\n",
    "array_metric_simple"
   ]
  },
  {
   "cell_type": "code",
   "execution_count": 41,
   "id": "modern-marketing",
   "metadata": {},
   "outputs": [],
   "source": [
    "array_res_simple=[check_metric(n) for n in array_metric_simple]\n"
   ]
  },
  {
   "cell_type": "code",
   "execution_count": 42,
   "id": "lesbian-component",
   "metadata": {},
   "outputs": [
    {
     "data": {
      "text/plain": [
       "[('follower_count', <Response [200]>),\n",
       " ('impressions', <Response [200]>),\n",
       " ('phone_call_clicks', <Response [200]>),\n",
       " ('profile_views', <Response [200]>),\n",
       " ('reach', <Response [200]>),\n",
       " ('text_message_clicks', <Response [200]>),\n",
       " ('website_clicks', <Response [200]>)]"
      ]
     },
     "execution_count": 42,
     "metadata": {},
     "output_type": "execute_result"
    }
   ],
   "source": [
    "array_res_simple"
   ]
  },
  {
   "cell_type": "code",
   "execution_count": 191,
   "id": "stable-lindsay",
   "metadata": {},
   "outputs": [],
   "source": [
    "start_date = datetime(2023, 1, 23)\n",
    "end_date = datetime(2023, 2, 11)\n",
    "days_list_start = list(rrule(DAILY, dtstart=start_date, until=end_date))\n",
    "start_date2 = datetime(2023, 1, 24)\n",
    "end_date2 = datetime(2023, 2, 12)\n",
    "days_list_end = list(rrule(DAILY, dtstart=start_date2, until=end_date2))"
   ]
  },
  {
   "cell_type": "code",
   "execution_count": 66,
   "id": "floating-double",
   "metadata": {},
   "outputs": [
    {
     "data": {
      "text/plain": [
       "datetime.datetime(2023, 1, 15, 0, 0)"
      ]
     },
     "execution_count": 66,
     "metadata": {},
     "output_type": "execute_result"
    }
   ],
   "source": []
  },
  {
   "cell_type": "code",
   "execution_count": 192,
   "id": "three-sacrifice",
   "metadata": {},
   "outputs": [],
   "source": [
    "df_dates=pd.DataFrame({'start': days_list_start,'end': days_list_end})"
   ]
  },
  {
   "cell_type": "code",
   "execution_count": 72,
   "id": "opening-logging",
   "metadata": {},
   "outputs": [],
   "source": [
    "\n",
    "url=f\"https://graph.facebook.com/v15.0/17841401901416928/insights?limit=1000&until={end_date}&since={start_date}&period=day&metric=follows_and_unfollows&breakdown=follow_type&metric_type=total_value&access_token=\""
   ]
  },
  {
   "cell_type": "code",
   "execution_count": 73,
   "id": "packed-perspective",
   "metadata": {},
   "outputs": [],
   "source": [
    "token='EAAmNvp7ZCK7kBAHYRRMY9a5uZCfGlqgEnDZBF5zJZA3Nzd8BwQT96AKnLZA1fFmhwHk8vWJZAAHjhJFlMKZCWXELRjipWks5o7YMZBLEPcBVxRciLjalXZAshXUGlWdnOGkKSuR5KYgVQKTzEJpnLmb8nviFtj0BuawHCpJRJMoNwWqVPtqHZA7dlPBT60BiaPJuQZD'"
   ]
  },
  {
   "cell_type": "code",
   "execution_count": 171,
   "id": "undefined-fairy",
   "metadata": {},
   "outputs": [],
   "source": [
    "def follow_unfolow(start_date,end_date,token):\n",
    "    url=f\"https://graph.facebook.com/v15.0/17841401901416928/insights?limit=1000&until={end_date}&since={start_date}&period=day&metric=follows_and_unfollows&breakdown=follow_type&metric_type=total_value&access_token={token}\"\n",
    "    r = requests.get(url)\n",
    "    json=r.json()\n",
    "    if json['data']:\n",
    "        value_follow=json['data'][0]['total_value']['breakdowns'][0]['results'][0]['value']\n",
    "        value_unfollow=json['data'][0]['total_value']['breakdowns'][0]['results'][1]['value']\n",
    "        return value_follow,value_unfollow, end_date\n",
    "    else:\n",
    "        return 'Did not work!'"
   ]
  },
  {
   "cell_type": "code",
   "execution_count": 187,
   "id": "close-conjunction",
   "metadata": {},
   "outputs": [
    {
     "data": {
      "text/plain": [
       "(3, 8, '2023/01/24')"
      ]
     },
     "execution_count": 187,
     "metadata": {},
     "output_type": "execute_result"
    }
   ],
   "source": [
    "follow_unfolow('2023/01/23','2023/01/24',token)"
   ]
  },
  {
   "cell_type": "code",
   "execution_count": 193,
   "id": "entertaining-release",
   "metadata": {},
   "outputs": [],
   "source": [
    "follows_arr=[]\n",
    "for index, row in df_dates.iterrows():\n",
    "        follows_arr.append(follow_unfolow(row['start'],row['end'],token)) \n"
   ]
  },
  {
   "cell_type": "code",
   "execution_count": 194,
   "id": "conditional-syndication",
   "metadata": {},
   "outputs": [
    {
     "data": {
      "text/plain": [
       "[(3, 8, Timestamp('2023-01-24 00:00:00')),\n",
       " (5, 5, Timestamp('2023-01-25 00:00:00')),\n",
       " (2, 6, Timestamp('2023-01-26 00:00:00')),\n",
       " (4, 1, Timestamp('2023-01-27 00:00:00')),\n",
       " (2, 4, Timestamp('2023-01-28 00:00:00')),\n",
       " (23, 7, Timestamp('2023-01-29 00:00:00')),\n",
       " (11, 4, Timestamp('2023-01-30 00:00:00')),\n",
       " (4, 2, Timestamp('2023-01-31 00:00:00')),\n",
       " (6, 7, Timestamp('2023-02-01 00:00:00')),\n",
       " (8, 3, Timestamp('2023-02-02 00:00:00')),\n",
       " (3, 4, Timestamp('2023-02-03 00:00:00')),\n",
       " (7, 6, Timestamp('2023-02-04 00:00:00')),\n",
       " (1, 3, Timestamp('2023-02-05 00:00:00')),\n",
       " (6, 5, Timestamp('2023-02-06 00:00:00')),\n",
       " (6, 3, Timestamp('2023-02-07 00:00:00')),\n",
       " (1, 3, Timestamp('2023-02-08 00:00:00')),\n",
       " (4, 4, Timestamp('2023-02-09 00:00:00')),\n",
       " (5, 4, Timestamp('2023-02-10 00:00:00')),\n",
       " (1, 3, Timestamp('2023-02-11 00:00:00')),\n",
       " (2, 8, Timestamp('2023-02-12 00:00:00'))]"
      ]
     },
     "execution_count": 194,
     "metadata": {},
     "output_type": "execute_result"
    }
   ],
   "source": [
    "follows_arr"
   ]
  }
 ],
 "metadata": {
  "kernelspec": {
   "display_name": "Python 3",
   "language": "python",
   "name": "python3"
  },
  "language_info": {
   "codemirror_mode": {
    "name": "ipython",
    "version": 3
   },
   "file_extension": ".py",
   "mimetype": "text/x-python",
   "name": "python",
   "nbconvert_exporter": "python",
   "pygments_lexer": "ipython3",
   "version": "3.6.12"
  }
 },
 "nbformat": 4,
 "nbformat_minor": 5
}
